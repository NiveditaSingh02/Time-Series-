{
 "cells": [
  {
   "cell_type": "markdown",
   "id": "a317cdca",
   "metadata": {},
   "source": [
    "# TIME SERIES SALES FORECASTING"
   ]
  },
  {
   "cell_type": "markdown",
   "id": "24f36ec0",
   "metadata": {},
   "source": [
    "## TECHNICAL GOALS\n",
    "* Understand the data very well. Do all transformations / data engineering/etc. wherever applicable.\n",
    "* Perform Exploratory Data Analysis(EDA).\n",
    "* Carry out all the Data mining tasks.\n",
    "* Identify the salient features that will determine the best results.\n",
    "* Perform the model evaluation to select the appropriate algorithms."
   ]
  },
  {
   "cell_type": "markdown",
   "id": "fc4f6c06",
   "metadata": {},
   "source": [
    "## Preparing Data for Machine Learning"
   ]
  },
  {
   "cell_type": "markdown",
   "id": "d818c3fb",
   "metadata": {},
   "source": [
    "### Data Preparation"
   ]
  },
  {
   "cell_type": "markdown",
   "id": "3200bfe0",
   "metadata": {},
   "source": [
    "### Import the liabraries"
   ]
  },
  {
   "cell_type": "code",
   "execution_count": 2,
   "id": "5600a9a0",
   "metadata": {},
   "outputs": [],
   "source": [
    "import pandas as pd\n",
    "import numpy as np\n",
    "import matplotlib.pyplot as plt\n",
    "\n",
    "from statsmodels.tsa.seasonal import seasonal_decompose\n",
    "\n",
    "# dickey fuller test for stationarity check\n",
    "from statsmodels.tsa.stattools import adfuller,acf,pacf\n",
    "\n",
    "from statsmodels.tsa.statespace.tools import diff\n",
    "\n",
    "# pip install pmdarima\n",
    "from pmdarima.arima import auto_arima\n",
    "\n",
    "from statsmodels.tsa.arima.model import ARIMA\n",
    "from statsmodels.graphics.tsaplots import plot_acf,plot_pacf\n",
    "\n",
    "from sklearn.metrics import mean_squared_error\n",
    "import statsmodels.api as sm\n",
    "\n",
    "import warnings\n",
    "warnings.filterwarnings('ignore')"
   ]
  },
  {
   "cell_type": "markdown",
   "id": "3018a292",
   "metadata": {},
   "source": [
    "### Data Exploration"
   ]
  },
  {
   "cell_type": "code",
   "execution_count": 3,
   "id": "1b6138ac",
   "metadata": {
    "scrolled": false
   },
   "outputs": [
    {
     "data": {
      "text/html": [
       "<div>\n",
       "<style scoped>\n",
       "    .dataframe tbody tr th:only-of-type {\n",
       "        vertical-align: middle;\n",
       "    }\n",
       "\n",
       "    .dataframe tbody tr th {\n",
       "        vertical-align: top;\n",
       "    }\n",
       "\n",
       "    .dataframe thead th {\n",
       "        text-align: right;\n",
       "    }\n",
       "</style>\n",
       "<table border=\"1\" class=\"dataframe\">\n",
       "  <thead>\n",
       "    <tr style=\"text-align: right;\">\n",
       "      <th></th>\n",
       "      <th>Row ID</th>\n",
       "      <th>Order ID</th>\n",
       "      <th>Order Date</th>\n",
       "      <th>Ship Mode</th>\n",
       "      <th>Customer ID</th>\n",
       "      <th>Customer Name</th>\n",
       "      <th>Segment</th>\n",
       "      <th>Country</th>\n",
       "      <th>City</th>\n",
       "      <th>State</th>\n",
       "      <th>Postal Code</th>\n",
       "      <th>Region</th>\n",
       "      <th>Product ID</th>\n",
       "      <th>Category</th>\n",
       "      <th>Sub-Category</th>\n",
       "      <th>Product Name</th>\n",
       "      <th>Sales</th>\n",
       "      <th>Quantity</th>\n",
       "      <th>Discount</th>\n",
       "      <th>Profit</th>\n",
       "    </tr>\n",
       "    <tr>\n",
       "      <th>Ship Date</th>\n",
       "      <th></th>\n",
       "      <th></th>\n",
       "      <th></th>\n",
       "      <th></th>\n",
       "      <th></th>\n",
       "      <th></th>\n",
       "      <th></th>\n",
       "      <th></th>\n",
       "      <th></th>\n",
       "      <th></th>\n",
       "      <th></th>\n",
       "      <th></th>\n",
       "      <th></th>\n",
       "      <th></th>\n",
       "      <th></th>\n",
       "      <th></th>\n",
       "      <th></th>\n",
       "      <th></th>\n",
       "      <th></th>\n",
       "      <th></th>\n",
       "    </tr>\n",
       "  </thead>\n",
       "  <tbody>\n",
       "    <tr>\n",
       "      <th>2016-11-11</th>\n",
       "      <td>1</td>\n",
       "      <td>CA-2016-152156</td>\n",
       "      <td>2016-11-08</td>\n",
       "      <td>Second Class</td>\n",
       "      <td>CG-12520</td>\n",
       "      <td>Claire Gute</td>\n",
       "      <td>Consumer</td>\n",
       "      <td>United States</td>\n",
       "      <td>Henderson</td>\n",
       "      <td>Kentucky</td>\n",
       "      <td>42420</td>\n",
       "      <td>South</td>\n",
       "      <td>FUR-BO-10001798</td>\n",
       "      <td>Furniture</td>\n",
       "      <td>Bookcases</td>\n",
       "      <td>Bush Somerset Collection Bookcase</td>\n",
       "      <td>261.9600</td>\n",
       "      <td>2</td>\n",
       "      <td>0.00</td>\n",
       "      <td>41.9136</td>\n",
       "    </tr>\n",
       "    <tr>\n",
       "      <th>2016-11-11</th>\n",
       "      <td>2</td>\n",
       "      <td>CA-2016-152156</td>\n",
       "      <td>2016-11-08</td>\n",
       "      <td>Second Class</td>\n",
       "      <td>CG-12520</td>\n",
       "      <td>Claire Gute</td>\n",
       "      <td>Consumer</td>\n",
       "      <td>United States</td>\n",
       "      <td>Henderson</td>\n",
       "      <td>Kentucky</td>\n",
       "      <td>42420</td>\n",
       "      <td>South</td>\n",
       "      <td>FUR-CH-10000454</td>\n",
       "      <td>Furniture</td>\n",
       "      <td>Chairs</td>\n",
       "      <td>Hon Deluxe Fabric Upholstered Stacking Chairs,...</td>\n",
       "      <td>731.9400</td>\n",
       "      <td>3</td>\n",
       "      <td>0.00</td>\n",
       "      <td>219.5820</td>\n",
       "    </tr>\n",
       "    <tr>\n",
       "      <th>2016-06-16</th>\n",
       "      <td>3</td>\n",
       "      <td>CA-2016-138688</td>\n",
       "      <td>2016-06-12</td>\n",
       "      <td>Second Class</td>\n",
       "      <td>DV-13045</td>\n",
       "      <td>Darrin Van Huff</td>\n",
       "      <td>Corporate</td>\n",
       "      <td>United States</td>\n",
       "      <td>Los Angeles</td>\n",
       "      <td>California</td>\n",
       "      <td>90036</td>\n",
       "      <td>West</td>\n",
       "      <td>OFF-LA-10000240</td>\n",
       "      <td>Office Supplies</td>\n",
       "      <td>Labels</td>\n",
       "      <td>Self-Adhesive Address Labels for Typewriters b...</td>\n",
       "      <td>14.6200</td>\n",
       "      <td>2</td>\n",
       "      <td>0.00</td>\n",
       "      <td>6.8714</td>\n",
       "    </tr>\n",
       "    <tr>\n",
       "      <th>2015-10-18</th>\n",
       "      <td>4</td>\n",
       "      <td>US-2015-108966</td>\n",
       "      <td>2015-10-11</td>\n",
       "      <td>Standard Class</td>\n",
       "      <td>SO-20335</td>\n",
       "      <td>Sean O'Donnell</td>\n",
       "      <td>Consumer</td>\n",
       "      <td>United States</td>\n",
       "      <td>Fort Lauderdale</td>\n",
       "      <td>Florida</td>\n",
       "      <td>33311</td>\n",
       "      <td>South</td>\n",
       "      <td>FUR-TA-10000577</td>\n",
       "      <td>Furniture</td>\n",
       "      <td>Tables</td>\n",
       "      <td>Bretford CR4500 Series Slim Rectangular Table</td>\n",
       "      <td>957.5775</td>\n",
       "      <td>5</td>\n",
       "      <td>0.45</td>\n",
       "      <td>-383.0310</td>\n",
       "    </tr>\n",
       "    <tr>\n",
       "      <th>2015-10-18</th>\n",
       "      <td>5</td>\n",
       "      <td>US-2015-108966</td>\n",
       "      <td>2015-10-11</td>\n",
       "      <td>Standard Class</td>\n",
       "      <td>SO-20335</td>\n",
       "      <td>Sean O'Donnell</td>\n",
       "      <td>Consumer</td>\n",
       "      <td>United States</td>\n",
       "      <td>Fort Lauderdale</td>\n",
       "      <td>Florida</td>\n",
       "      <td>33311</td>\n",
       "      <td>South</td>\n",
       "      <td>OFF-ST-10000760</td>\n",
       "      <td>Office Supplies</td>\n",
       "      <td>Storage</td>\n",
       "      <td>Eldon Fold 'N Roll Cart System</td>\n",
       "      <td>22.3680</td>\n",
       "      <td>2</td>\n",
       "      <td>0.20</td>\n",
       "      <td>2.5164</td>\n",
       "    </tr>\n",
       "    <tr>\n",
       "      <th>...</th>\n",
       "      <td>...</td>\n",
       "      <td>...</td>\n",
       "      <td>...</td>\n",
       "      <td>...</td>\n",
       "      <td>...</td>\n",
       "      <td>...</td>\n",
       "      <td>...</td>\n",
       "      <td>...</td>\n",
       "      <td>...</td>\n",
       "      <td>...</td>\n",
       "      <td>...</td>\n",
       "      <td>...</td>\n",
       "      <td>...</td>\n",
       "      <td>...</td>\n",
       "      <td>...</td>\n",
       "      <td>...</td>\n",
       "      <td>...</td>\n",
       "      <td>...</td>\n",
       "      <td>...</td>\n",
       "      <td>...</td>\n",
       "    </tr>\n",
       "    <tr>\n",
       "      <th>2014-01-23</th>\n",
       "      <td>9990</td>\n",
       "      <td>CA-2014-110422</td>\n",
       "      <td>2014-01-21</td>\n",
       "      <td>Second Class</td>\n",
       "      <td>TB-21400</td>\n",
       "      <td>Tom Boeckenhauer</td>\n",
       "      <td>Consumer</td>\n",
       "      <td>United States</td>\n",
       "      <td>Miami</td>\n",
       "      <td>Florida</td>\n",
       "      <td>33180</td>\n",
       "      <td>South</td>\n",
       "      <td>FUR-FU-10001889</td>\n",
       "      <td>Furniture</td>\n",
       "      <td>Furnishings</td>\n",
       "      <td>Ultra Door Pull Handle</td>\n",
       "      <td>25.2480</td>\n",
       "      <td>3</td>\n",
       "      <td>0.20</td>\n",
       "      <td>4.1028</td>\n",
       "    </tr>\n",
       "    <tr>\n",
       "      <th>2017-03-03</th>\n",
       "      <td>9991</td>\n",
       "      <td>CA-2017-121258</td>\n",
       "      <td>2017-02-26</td>\n",
       "      <td>Standard Class</td>\n",
       "      <td>DB-13060</td>\n",
       "      <td>Dave Brooks</td>\n",
       "      <td>Consumer</td>\n",
       "      <td>United States</td>\n",
       "      <td>Costa Mesa</td>\n",
       "      <td>California</td>\n",
       "      <td>92627</td>\n",
       "      <td>West</td>\n",
       "      <td>FUR-FU-10000747</td>\n",
       "      <td>Furniture</td>\n",
       "      <td>Furnishings</td>\n",
       "      <td>Tenex B1-RE Series Chair Mats for Low Pile Car...</td>\n",
       "      <td>91.9600</td>\n",
       "      <td>2</td>\n",
       "      <td>0.00</td>\n",
       "      <td>15.6332</td>\n",
       "    </tr>\n",
       "    <tr>\n",
       "      <th>2017-03-03</th>\n",
       "      <td>9992</td>\n",
       "      <td>CA-2017-121258</td>\n",
       "      <td>2017-02-26</td>\n",
       "      <td>Standard Class</td>\n",
       "      <td>DB-13060</td>\n",
       "      <td>Dave Brooks</td>\n",
       "      <td>Consumer</td>\n",
       "      <td>United States</td>\n",
       "      <td>Costa Mesa</td>\n",
       "      <td>California</td>\n",
       "      <td>92627</td>\n",
       "      <td>West</td>\n",
       "      <td>TEC-PH-10003645</td>\n",
       "      <td>Technology</td>\n",
       "      <td>Phones</td>\n",
       "      <td>Aastra 57i VoIP phone</td>\n",
       "      <td>258.5760</td>\n",
       "      <td>2</td>\n",
       "      <td>0.20</td>\n",
       "      <td>19.3932</td>\n",
       "    </tr>\n",
       "    <tr>\n",
       "      <th>2017-03-03</th>\n",
       "      <td>9993</td>\n",
       "      <td>CA-2017-121258</td>\n",
       "      <td>2017-02-26</td>\n",
       "      <td>Standard Class</td>\n",
       "      <td>DB-13060</td>\n",
       "      <td>Dave Brooks</td>\n",
       "      <td>Consumer</td>\n",
       "      <td>United States</td>\n",
       "      <td>Costa Mesa</td>\n",
       "      <td>California</td>\n",
       "      <td>92627</td>\n",
       "      <td>West</td>\n",
       "      <td>OFF-PA-10004041</td>\n",
       "      <td>Office Supplies</td>\n",
       "      <td>Paper</td>\n",
       "      <td>It's Hot Message Books with Stickers, 2 3/4\" x 5\"</td>\n",
       "      <td>29.6000</td>\n",
       "      <td>4</td>\n",
       "      <td>0.00</td>\n",
       "      <td>13.3200</td>\n",
       "    </tr>\n",
       "    <tr>\n",
       "      <th>2017-05-09</th>\n",
       "      <td>9994</td>\n",
       "      <td>CA-2017-119914</td>\n",
       "      <td>2017-05-04</td>\n",
       "      <td>Second Class</td>\n",
       "      <td>CC-12220</td>\n",
       "      <td>Chris Cortes</td>\n",
       "      <td>Consumer</td>\n",
       "      <td>United States</td>\n",
       "      <td>Westminster</td>\n",
       "      <td>California</td>\n",
       "      <td>92683</td>\n",
       "      <td>West</td>\n",
       "      <td>OFF-AP-10002684</td>\n",
       "      <td>Office Supplies</td>\n",
       "      <td>Appliances</td>\n",
       "      <td>Acco 7-Outlet Masterpiece Power Center, Wihtou...</td>\n",
       "      <td>243.1600</td>\n",
       "      <td>2</td>\n",
       "      <td>0.00</td>\n",
       "      <td>72.9480</td>\n",
       "    </tr>\n",
       "  </tbody>\n",
       "</table>\n",
       "<p>9994 rows × 20 columns</p>\n",
       "</div>"
      ],
      "text/plain": [
       "            Row ID        Order ID Order Date       Ship Mode Customer ID  \\\n",
       "Ship Date                                                                   \n",
       "2016-11-11       1  CA-2016-152156 2016-11-08    Second Class    CG-12520   \n",
       "2016-11-11       2  CA-2016-152156 2016-11-08    Second Class    CG-12520   \n",
       "2016-06-16       3  CA-2016-138688 2016-06-12    Second Class    DV-13045   \n",
       "2015-10-18       4  US-2015-108966 2015-10-11  Standard Class    SO-20335   \n",
       "2015-10-18       5  US-2015-108966 2015-10-11  Standard Class    SO-20335   \n",
       "...            ...             ...        ...             ...         ...   \n",
       "2014-01-23    9990  CA-2014-110422 2014-01-21    Second Class    TB-21400   \n",
       "2017-03-03    9991  CA-2017-121258 2017-02-26  Standard Class    DB-13060   \n",
       "2017-03-03    9992  CA-2017-121258 2017-02-26  Standard Class    DB-13060   \n",
       "2017-03-03    9993  CA-2017-121258 2017-02-26  Standard Class    DB-13060   \n",
       "2017-05-09    9994  CA-2017-119914 2017-05-04    Second Class    CC-12220   \n",
       "\n",
       "               Customer Name    Segment        Country             City  \\\n",
       "Ship Date                                                                 \n",
       "2016-11-11       Claire Gute   Consumer  United States        Henderson   \n",
       "2016-11-11       Claire Gute   Consumer  United States        Henderson   \n",
       "2016-06-16   Darrin Van Huff  Corporate  United States      Los Angeles   \n",
       "2015-10-18    Sean O'Donnell   Consumer  United States  Fort Lauderdale   \n",
       "2015-10-18    Sean O'Donnell   Consumer  United States  Fort Lauderdale   \n",
       "...                      ...        ...            ...              ...   \n",
       "2014-01-23  Tom Boeckenhauer   Consumer  United States            Miami   \n",
       "2017-03-03       Dave Brooks   Consumer  United States       Costa Mesa   \n",
       "2017-03-03       Dave Brooks   Consumer  United States       Costa Mesa   \n",
       "2017-03-03       Dave Brooks   Consumer  United States       Costa Mesa   \n",
       "2017-05-09      Chris Cortes   Consumer  United States      Westminster   \n",
       "\n",
       "                 State  Postal Code Region       Product ID         Category  \\\n",
       "Ship Date                                                                      \n",
       "2016-11-11    Kentucky        42420  South  FUR-BO-10001798        Furniture   \n",
       "2016-11-11    Kentucky        42420  South  FUR-CH-10000454        Furniture   \n",
       "2016-06-16  California        90036   West  OFF-LA-10000240  Office Supplies   \n",
       "2015-10-18     Florida        33311  South  FUR-TA-10000577        Furniture   \n",
       "2015-10-18     Florida        33311  South  OFF-ST-10000760  Office Supplies   \n",
       "...                ...          ...    ...              ...              ...   \n",
       "2014-01-23     Florida        33180  South  FUR-FU-10001889        Furniture   \n",
       "2017-03-03  California        92627   West  FUR-FU-10000747        Furniture   \n",
       "2017-03-03  California        92627   West  TEC-PH-10003645       Technology   \n",
       "2017-03-03  California        92627   West  OFF-PA-10004041  Office Supplies   \n",
       "2017-05-09  California        92683   West  OFF-AP-10002684  Office Supplies   \n",
       "\n",
       "           Sub-Category                                       Product Name  \\\n",
       "Ship Date                                                                    \n",
       "2016-11-11    Bookcases                  Bush Somerset Collection Bookcase   \n",
       "2016-11-11       Chairs  Hon Deluxe Fabric Upholstered Stacking Chairs,...   \n",
       "2016-06-16       Labels  Self-Adhesive Address Labels for Typewriters b...   \n",
       "2015-10-18       Tables      Bretford CR4500 Series Slim Rectangular Table   \n",
       "2015-10-18      Storage                     Eldon Fold 'N Roll Cart System   \n",
       "...                 ...                                                ...   \n",
       "2014-01-23  Furnishings                             Ultra Door Pull Handle   \n",
       "2017-03-03  Furnishings  Tenex B1-RE Series Chair Mats for Low Pile Car...   \n",
       "2017-03-03       Phones                              Aastra 57i VoIP phone   \n",
       "2017-03-03        Paper  It's Hot Message Books with Stickers, 2 3/4\" x 5\"   \n",
       "2017-05-09   Appliances  Acco 7-Outlet Masterpiece Power Center, Wihtou...   \n",
       "\n",
       "               Sales  Quantity  Discount    Profit  \n",
       "Ship Date                                           \n",
       "2016-11-11  261.9600         2      0.00   41.9136  \n",
       "2016-11-11  731.9400         3      0.00  219.5820  \n",
       "2016-06-16   14.6200         2      0.00    6.8714  \n",
       "2015-10-18  957.5775         5      0.45 -383.0310  \n",
       "2015-10-18   22.3680         2      0.20    2.5164  \n",
       "...              ...       ...       ...       ...  \n",
       "2014-01-23   25.2480         3      0.20    4.1028  \n",
       "2017-03-03   91.9600         2      0.00   15.6332  \n",
       "2017-03-03  258.5760         2      0.20   19.3932  \n",
       "2017-03-03   29.6000         4      0.00   13.3200  \n",
       "2017-05-09  243.1600         2      0.00   72.9480  \n",
       "\n",
       "[9994 rows x 20 columns]"
      ]
     },
     "execution_count": 3,
     "metadata": {},
     "output_type": "execute_result"
    }
   ],
   "source": [
    "data=pd.read_excel(\"Proj4_TimeSeries_Sales_Data_Project.xls\",index_col='Ship Date',parse_dates=True)\n",
    "data"
   ]
  },
  {
   "cell_type": "code",
   "execution_count": 4,
   "id": "3c8b8f62",
   "metadata": {},
   "outputs": [],
   "source": [
    "#data=data.sort_index()"
   ]
  },
  {
   "cell_type": "code",
   "execution_count": 5,
   "id": "522de5b0",
   "metadata": {
    "scrolled": true
   },
   "outputs": [],
   "source": [
    "#data"
   ]
  },
  {
   "cell_type": "markdown",
   "id": "39045428",
   "metadata": {},
   "source": [
    "## Understanding data structure"
   ]
  },
  {
   "cell_type": "markdown",
   "id": "5fed9f3a",
   "metadata": {},
   "source": [
    "### All columns"
   ]
  },
  {
   "cell_type": "code",
   "execution_count": 6,
   "id": "69f58196",
   "metadata": {},
   "outputs": [
    {
     "data": {
      "text/plain": [
       "Index(['Row ID', 'Order ID', 'Order Date', 'Ship Mode', 'Customer ID',\n",
       "       'Customer Name', 'Segment', 'Country', 'City', 'State', 'Postal Code',\n",
       "       'Region', 'Product ID', 'Category', 'Sub-Category', 'Product Name',\n",
       "       'Sales', 'Quantity', 'Discount', 'Profit'],\n",
       "      dtype='object')"
      ]
     },
     "execution_count": 6,
     "metadata": {},
     "output_type": "execute_result"
    }
   ],
   "source": [
    "data.columns"
   ]
  },
  {
   "cell_type": "markdown",
   "id": "4580a802",
   "metadata": {},
   "source": [
    "### structure of dataset"
   ]
  },
  {
   "cell_type": "code",
   "execution_count": 7,
   "id": "924f63bf",
   "metadata": {},
   "outputs": [
    {
     "data": {
      "text/plain": [
       "(9994, 20)"
      ]
     },
     "execution_count": 7,
     "metadata": {},
     "output_type": "execute_result"
    }
   ],
   "source": [
    "data.shape"
   ]
  },
  {
   "cell_type": "code",
   "execution_count": 8,
   "id": "e6d7cd46",
   "metadata": {},
   "outputs": [
    {
     "data": {
      "text/plain": [
       "199880"
      ]
     },
     "execution_count": 8,
     "metadata": {},
     "output_type": "execute_result"
    }
   ],
   "source": [
    "data.size"
   ]
  },
  {
   "cell_type": "markdown",
   "id": "0b623bd6",
   "metadata": {},
   "source": [
    "### Summary of dataset"
   ]
  },
  {
   "cell_type": "code",
   "execution_count": 9,
   "id": "c8834eae",
   "metadata": {},
   "outputs": [
    {
     "data": {
      "text/html": [
       "<div>\n",
       "<style scoped>\n",
       "    .dataframe tbody tr th:only-of-type {\n",
       "        vertical-align: middle;\n",
       "    }\n",
       "\n",
       "    .dataframe tbody tr th {\n",
       "        vertical-align: top;\n",
       "    }\n",
       "\n",
       "    .dataframe thead th {\n",
       "        text-align: right;\n",
       "    }\n",
       "</style>\n",
       "<table border=\"1\" class=\"dataframe\">\n",
       "  <thead>\n",
       "    <tr style=\"text-align: right;\">\n",
       "      <th></th>\n",
       "      <th>count</th>\n",
       "      <th>mean</th>\n",
       "      <th>std</th>\n",
       "      <th>min</th>\n",
       "      <th>25%</th>\n",
       "      <th>50%</th>\n",
       "      <th>75%</th>\n",
       "      <th>max</th>\n",
       "    </tr>\n",
       "  </thead>\n",
       "  <tbody>\n",
       "    <tr>\n",
       "      <th>Row ID</th>\n",
       "      <td>9994.0</td>\n",
       "      <td>4997.500000</td>\n",
       "      <td>2885.163629</td>\n",
       "      <td>1.000</td>\n",
       "      <td>2499.25000</td>\n",
       "      <td>4997.5000</td>\n",
       "      <td>7495.750</td>\n",
       "      <td>9994.000</td>\n",
       "    </tr>\n",
       "    <tr>\n",
       "      <th>Postal Code</th>\n",
       "      <td>9994.0</td>\n",
       "      <td>55190.379428</td>\n",
       "      <td>32063.693350</td>\n",
       "      <td>1040.000</td>\n",
       "      <td>23223.00000</td>\n",
       "      <td>56430.5000</td>\n",
       "      <td>90008.000</td>\n",
       "      <td>99301.000</td>\n",
       "    </tr>\n",
       "    <tr>\n",
       "      <th>Sales</th>\n",
       "      <td>9994.0</td>\n",
       "      <td>229.858001</td>\n",
       "      <td>623.245101</td>\n",
       "      <td>0.444</td>\n",
       "      <td>17.28000</td>\n",
       "      <td>54.4900</td>\n",
       "      <td>209.940</td>\n",
       "      <td>22638.480</td>\n",
       "    </tr>\n",
       "    <tr>\n",
       "      <th>Quantity</th>\n",
       "      <td>9994.0</td>\n",
       "      <td>3.789574</td>\n",
       "      <td>2.225110</td>\n",
       "      <td>1.000</td>\n",
       "      <td>2.00000</td>\n",
       "      <td>3.0000</td>\n",
       "      <td>5.000</td>\n",
       "      <td>14.000</td>\n",
       "    </tr>\n",
       "    <tr>\n",
       "      <th>Discount</th>\n",
       "      <td>9994.0</td>\n",
       "      <td>0.156203</td>\n",
       "      <td>0.206452</td>\n",
       "      <td>0.000</td>\n",
       "      <td>0.00000</td>\n",
       "      <td>0.2000</td>\n",
       "      <td>0.200</td>\n",
       "      <td>0.800</td>\n",
       "    </tr>\n",
       "    <tr>\n",
       "      <th>Profit</th>\n",
       "      <td>9994.0</td>\n",
       "      <td>28.656896</td>\n",
       "      <td>234.260108</td>\n",
       "      <td>-6599.978</td>\n",
       "      <td>1.72875</td>\n",
       "      <td>8.6665</td>\n",
       "      <td>29.364</td>\n",
       "      <td>8399.976</td>\n",
       "    </tr>\n",
       "  </tbody>\n",
       "</table>\n",
       "</div>"
      ],
      "text/plain": [
       "              count          mean           std       min          25%  \\\n",
       "Row ID       9994.0   4997.500000   2885.163629     1.000   2499.25000   \n",
       "Postal Code  9994.0  55190.379428  32063.693350  1040.000  23223.00000   \n",
       "Sales        9994.0    229.858001    623.245101     0.444     17.28000   \n",
       "Quantity     9994.0      3.789574      2.225110     1.000      2.00000   \n",
       "Discount     9994.0      0.156203      0.206452     0.000      0.00000   \n",
       "Profit       9994.0     28.656896    234.260108 -6599.978      1.72875   \n",
       "\n",
       "                    50%        75%        max  \n",
       "Row ID        4997.5000   7495.750   9994.000  \n",
       "Postal Code  56430.5000  90008.000  99301.000  \n",
       "Sales           54.4900    209.940  22638.480  \n",
       "Quantity         3.0000      5.000     14.000  \n",
       "Discount         0.2000      0.200      0.800  \n",
       "Profit           8.6665     29.364   8399.976  "
      ]
     },
     "execution_count": 9,
     "metadata": {},
     "output_type": "execute_result"
    }
   ],
   "source": [
    "data.describe().T"
   ]
  },
  {
   "cell_type": "code",
   "execution_count": 10,
   "id": "2fb6a955",
   "metadata": {},
   "outputs": [
    {
     "data": {
      "text/html": [
       "<div>\n",
       "<style scoped>\n",
       "    .dataframe tbody tr th:only-of-type {\n",
       "        vertical-align: middle;\n",
       "    }\n",
       "\n",
       "    .dataframe tbody tr th {\n",
       "        vertical-align: top;\n",
       "    }\n",
       "\n",
       "    .dataframe thead th {\n",
       "        text-align: right;\n",
       "    }\n",
       "</style>\n",
       "<table border=\"1\" class=\"dataframe\">\n",
       "  <thead>\n",
       "    <tr style=\"text-align: right;\">\n",
       "      <th></th>\n",
       "      <th>count</th>\n",
       "      <th>unique</th>\n",
       "      <th>top</th>\n",
       "      <th>freq</th>\n",
       "    </tr>\n",
       "  </thead>\n",
       "  <tbody>\n",
       "    <tr>\n",
       "      <th>Order ID</th>\n",
       "      <td>9994</td>\n",
       "      <td>5009</td>\n",
       "      <td>CA-2017-100111</td>\n",
       "      <td>14</td>\n",
       "    </tr>\n",
       "    <tr>\n",
       "      <th>Ship Mode</th>\n",
       "      <td>9994</td>\n",
       "      <td>4</td>\n",
       "      <td>Standard Class</td>\n",
       "      <td>5968</td>\n",
       "    </tr>\n",
       "    <tr>\n",
       "      <th>Customer ID</th>\n",
       "      <td>9994</td>\n",
       "      <td>793</td>\n",
       "      <td>WB-21850</td>\n",
       "      <td>37</td>\n",
       "    </tr>\n",
       "    <tr>\n",
       "      <th>Customer Name</th>\n",
       "      <td>9994</td>\n",
       "      <td>793</td>\n",
       "      <td>William Brown</td>\n",
       "      <td>37</td>\n",
       "    </tr>\n",
       "    <tr>\n",
       "      <th>Segment</th>\n",
       "      <td>9994</td>\n",
       "      <td>3</td>\n",
       "      <td>Consumer</td>\n",
       "      <td>5191</td>\n",
       "    </tr>\n",
       "    <tr>\n",
       "      <th>Country</th>\n",
       "      <td>9994</td>\n",
       "      <td>1</td>\n",
       "      <td>United States</td>\n",
       "      <td>9994</td>\n",
       "    </tr>\n",
       "    <tr>\n",
       "      <th>City</th>\n",
       "      <td>9994</td>\n",
       "      <td>531</td>\n",
       "      <td>New York City</td>\n",
       "      <td>915</td>\n",
       "    </tr>\n",
       "    <tr>\n",
       "      <th>State</th>\n",
       "      <td>9994</td>\n",
       "      <td>49</td>\n",
       "      <td>California</td>\n",
       "      <td>2001</td>\n",
       "    </tr>\n",
       "    <tr>\n",
       "      <th>Region</th>\n",
       "      <td>9994</td>\n",
       "      <td>4</td>\n",
       "      <td>West</td>\n",
       "      <td>3203</td>\n",
       "    </tr>\n",
       "    <tr>\n",
       "      <th>Product ID</th>\n",
       "      <td>9994</td>\n",
       "      <td>1862</td>\n",
       "      <td>OFF-PA-10001970</td>\n",
       "      <td>19</td>\n",
       "    </tr>\n",
       "    <tr>\n",
       "      <th>Category</th>\n",
       "      <td>9994</td>\n",
       "      <td>3</td>\n",
       "      <td>Office Supplies</td>\n",
       "      <td>6026</td>\n",
       "    </tr>\n",
       "    <tr>\n",
       "      <th>Sub-Category</th>\n",
       "      <td>9994</td>\n",
       "      <td>17</td>\n",
       "      <td>Binders</td>\n",
       "      <td>1523</td>\n",
       "    </tr>\n",
       "    <tr>\n",
       "      <th>Product Name</th>\n",
       "      <td>9994</td>\n",
       "      <td>1850</td>\n",
       "      <td>Staple envelope</td>\n",
       "      <td>48</td>\n",
       "    </tr>\n",
       "  </tbody>\n",
       "</table>\n",
       "</div>"
      ],
      "text/plain": [
       "              count unique              top  freq\n",
       "Order ID       9994   5009   CA-2017-100111    14\n",
       "Ship Mode      9994      4   Standard Class  5968\n",
       "Customer ID    9994    793         WB-21850    37\n",
       "Customer Name  9994    793    William Brown    37\n",
       "Segment        9994      3         Consumer  5191\n",
       "Country        9994      1    United States  9994\n",
       "City           9994    531    New York City   915\n",
       "State          9994     49       California  2001\n",
       "Region         9994      4             West  3203\n",
       "Product ID     9994   1862  OFF-PA-10001970    19\n",
       "Category       9994      3  Office Supplies  6026\n",
       "Sub-Category   9994     17          Binders  1523\n",
       "Product Name   9994   1850  Staple envelope    48"
      ]
     },
     "execution_count": 10,
     "metadata": {},
     "output_type": "execute_result"
    }
   ],
   "source": [
    "data.describe(include = 'object').T"
   ]
  },
  {
   "cell_type": "markdown",
   "id": "f3b80d03",
   "metadata": {},
   "source": [
    "### Count of each columns or feature in the data set"
   ]
  },
  {
   "cell_type": "code",
   "execution_count": 11,
   "id": "ffc2a33c",
   "metadata": {},
   "outputs": [
    {
     "data": {
      "text/plain": [
       "1       1\n",
       "6666    1\n",
       "6659    1\n",
       "6660    1\n",
       "6661    1\n",
       "       ..\n",
       "3333    1\n",
       "3334    1\n",
       "3335    1\n",
       "3336    1\n",
       "9994    1\n",
       "Name: Row ID, Length: 9994, dtype: int64"
      ]
     },
     "execution_count": 11,
     "metadata": {},
     "output_type": "execute_result"
    }
   ],
   "source": [
    "data['Row ID'].value_counts()"
   ]
  },
  {
   "cell_type": "code",
   "execution_count": 12,
   "id": "20d26896",
   "metadata": {},
   "outputs": [
    {
     "data": {
      "text/plain": [
       "Standard Class    5968\n",
       "Second Class      1945\n",
       "First Class       1538\n",
       "Same Day           543\n",
       "Name: Ship Mode, dtype: int64"
      ]
     },
     "execution_count": 12,
     "metadata": {},
     "output_type": "execute_result"
    }
   ],
   "source": [
    "data['Ship Mode'].value_counts()"
   ]
  },
  {
   "cell_type": "code",
   "execution_count": 13,
   "id": "b705155a",
   "metadata": {},
   "outputs": [
    {
     "data": {
      "text/plain": [
       "Consumer       5191\n",
       "Corporate      3020\n",
       "Home Office    1783\n",
       "Name: Segment, dtype: int64"
      ]
     },
     "execution_count": 13,
     "metadata": {},
     "output_type": "execute_result"
    }
   ],
   "source": [
    "data['Segment'].value_counts()"
   ]
  },
  {
   "cell_type": "code",
   "execution_count": 14,
   "id": "85c733a6",
   "metadata": {},
   "outputs": [
    {
     "data": {
      "text/plain": [
       "United States    9994\n",
       "Name: Country, dtype: int64"
      ]
     },
     "execution_count": 14,
     "metadata": {},
     "output_type": "execute_result"
    }
   ],
   "source": [
    "data['Country'].value_counts()"
   ]
  },
  {
   "cell_type": "code",
   "execution_count": 15,
   "id": "af2ef666",
   "metadata": {},
   "outputs": [
    {
     "data": {
      "text/plain": [
       "California              2001\n",
       "New York                1128\n",
       "Texas                    985\n",
       "Pennsylvania             587\n",
       "Washington               506\n",
       "Illinois                 492\n",
       "Ohio                     469\n",
       "Florida                  383\n",
       "Michigan                 255\n",
       "North Carolina           249\n",
       "Arizona                  224\n",
       "Virginia                 224\n",
       "Georgia                  184\n",
       "Tennessee                183\n",
       "Colorado                 182\n",
       "Indiana                  149\n",
       "Kentucky                 139\n",
       "Massachusetts            135\n",
       "New Jersey               130\n",
       "Oregon                   124\n",
       "Wisconsin                110\n",
       "Maryland                 105\n",
       "Delaware                  96\n",
       "Minnesota                 89\n",
       "Connecticut               82\n",
       "Oklahoma                  66\n",
       "Missouri                  66\n",
       "Alabama                   61\n",
       "Arkansas                  60\n",
       "Rhode Island              56\n",
       "Utah                      53\n",
       "Mississippi               53\n",
       "Louisiana                 42\n",
       "South Carolina            42\n",
       "Nevada                    39\n",
       "Nebraska                  38\n",
       "New Mexico                37\n",
       "Iowa                      30\n",
       "New Hampshire             27\n",
       "Kansas                    24\n",
       "Idaho                     21\n",
       "Montana                   15\n",
       "South Dakota              12\n",
       "Vermont                   11\n",
       "District of Columbia      10\n",
       "Maine                      8\n",
       "North Dakota               7\n",
       "West Virginia              4\n",
       "Wyoming                    1\n",
       "Name: State, dtype: int64"
      ]
     },
     "execution_count": 15,
     "metadata": {},
     "output_type": "execute_result"
    }
   ],
   "source": [
    "data['State'].value_counts()"
   ]
  },
  {
   "cell_type": "code",
   "execution_count": 16,
   "id": "7528121b",
   "metadata": {},
   "outputs": [
    {
     "data": {
      "text/plain": [
       "West       3203\n",
       "East       2848\n",
       "Central    2323\n",
       "South      1620\n",
       "Name: Region, dtype: int64"
      ]
     },
     "execution_count": 16,
     "metadata": {},
     "output_type": "execute_result"
    }
   ],
   "source": [
    "data['Region'].value_counts()"
   ]
  },
  {
   "cell_type": "code",
   "execution_count": 17,
   "id": "fdc90185",
   "metadata": {},
   "outputs": [
    {
     "data": {
      "text/plain": [
       "Office Supplies    6026\n",
       "Furniture          2121\n",
       "Technology         1847\n",
       "Name: Category, dtype: int64"
      ]
     },
     "execution_count": 17,
     "metadata": {},
     "output_type": "execute_result"
    }
   ],
   "source": [
    "data['Category'].value_counts()"
   ]
  },
  {
   "cell_type": "code",
   "execution_count": 18,
   "id": "93548755",
   "metadata": {},
   "outputs": [
    {
     "data": {
      "text/plain": [
       "Binders        1523\n",
       "Paper          1370\n",
       "Furnishings     957\n",
       "Phones          889\n",
       "Storage         846\n",
       "Art             796\n",
       "Accessories     775\n",
       "Chairs          617\n",
       "Appliances      466\n",
       "Labels          364\n",
       "Tables          319\n",
       "Envelopes       254\n",
       "Bookcases       228\n",
       "Fasteners       217\n",
       "Supplies        190\n",
       "Machines        115\n",
       "Copiers          68\n",
       "Name: Sub-Category, dtype: int64"
      ]
     },
     "execution_count": 18,
     "metadata": {},
     "output_type": "execute_result"
    }
   ],
   "source": [
    "data['Sub-Category'].value_counts()"
   ]
  },
  {
   "cell_type": "code",
   "execution_count": 19,
   "id": "b506bd12",
   "metadata": {},
   "outputs": [
    {
     "data": {
      "text/plain": [
       "3     2409\n",
       "2     2402\n",
       "5     1230\n",
       "4     1191\n",
       "1      899\n",
       "7      606\n",
       "6      572\n",
       "9      258\n",
       "8      257\n",
       "10      57\n",
       "11      34\n",
       "14      29\n",
       "13      27\n",
       "12      23\n",
       "Name: Quantity, dtype: int64"
      ]
     },
     "execution_count": 19,
     "metadata": {},
     "output_type": "execute_result"
    }
   ],
   "source": [
    "data['Quantity'].value_counts()"
   ]
  },
  {
   "cell_type": "code",
   "execution_count": 20,
   "id": "2124ea6d",
   "metadata": {},
   "outputs": [
    {
     "data": {
      "text/plain": [
       "10035    263\n",
       "10024    230\n",
       "10009    229\n",
       "94122    203\n",
       "10011    193\n",
       "        ... \n",
       "27534      1\n",
       "53186      1\n",
       "32503      1\n",
       "94509      1\n",
       "63376      1\n",
       "Name: Postal Code, Length: 631, dtype: int64"
      ]
     },
     "execution_count": 20,
     "metadata": {},
     "output_type": "execute_result"
    }
   ],
   "source": [
    "data['Postal Code'].value_counts()"
   ]
  },
  {
   "cell_type": "code",
   "execution_count": 21,
   "id": "694587fb",
   "metadata": {},
   "outputs": [
    {
     "data": {
      "text/plain": [
       "OFF-PA-10001970    19\n",
       "TEC-AC-10003832    18\n",
       "FUR-FU-10004270    16\n",
       "FUR-CH-10001146    15\n",
       "TEC-AC-10003628    15\n",
       "                   ..\n",
       "TEC-PH-10003535     1\n",
       "TEC-MA-10002937     1\n",
       "OFF-AR-10004974     1\n",
       "TEC-AC-10004814     1\n",
       "OFF-ST-10001627     1\n",
       "Name: Product ID, Length: 1862, dtype: int64"
      ]
     },
     "execution_count": 21,
     "metadata": {},
     "output_type": "execute_result"
    }
   ],
   "source": [
    "data['Product ID'].value_counts()"
   ]
  },
  {
   "cell_type": "code",
   "execution_count": 22,
   "id": "0f34fec8",
   "metadata": {},
   "outputs": [
    {
     "data": {
      "text/plain": [
       "0.00    4798\n",
       "0.20    3657\n",
       "0.70     418\n",
       "0.80     300\n",
       "0.30     227\n",
       "0.40     206\n",
       "0.60     138\n",
       "0.10      94\n",
       "0.50      66\n",
       "0.15      52\n",
       "0.32      27\n",
       "0.45      11\n",
       "Name: Discount, dtype: int64"
      ]
     },
     "execution_count": 22,
     "metadata": {},
     "output_type": "execute_result"
    }
   ],
   "source": [
    "data['Discount'].value_counts()"
   ]
  },
  {
   "cell_type": "code",
   "execution_count": 23,
   "id": "9d145b55",
   "metadata": {},
   "outputs": [
    {
     "data": {
      "text/plain": [
       " 0.0000     65\n",
       " 6.2208     43\n",
       " 9.3312     38\n",
       " 3.6288     32\n",
       " 5.4432     32\n",
       "            ..\n",
       "-22.6200     1\n",
       " 5.4288      1\n",
       " 15.4680     1\n",
       " 8.6391      1\n",
       " 72.9480     1\n",
       "Name: Profit, Length: 7545, dtype: int64"
      ]
     },
     "execution_count": 23,
     "metadata": {},
     "output_type": "execute_result"
    }
   ],
   "source": [
    "data['Profit'].value_counts()"
   ]
  },
  {
   "cell_type": "code",
   "execution_count": 24,
   "id": "ab3c48d2",
   "metadata": {},
   "outputs": [
    {
     "data": {
      "text/plain": [
       "12.960     56\n",
       "19.440     39\n",
       "15.552     39\n",
       "10.368     36\n",
       "32.400     28\n",
       "           ..\n",
       "825.174     1\n",
       "569.536     1\n",
       "796.425     1\n",
       "12.832      1\n",
       "243.160     1\n",
       "Name: Sales, Length: 6144, dtype: int64"
      ]
     },
     "execution_count": 24,
     "metadata": {},
     "output_type": "execute_result"
    }
   ],
   "source": [
    "data['Sales'].value_counts()"
   ]
  },
  {
   "cell_type": "code",
   "execution_count": 25,
   "id": "0eef569e",
   "metadata": {},
   "outputs": [
    {
     "data": {
      "text/plain": [
       "Staple envelope                                                                        48\n",
       "Staples                                                                                46\n",
       "Easy-staple paper                                                                      46\n",
       "Avery Non-Stick Binders                                                                20\n",
       "Staples in misc. colors                                                                19\n",
       "                                                                                       ..\n",
       "Boston 1900 Electric Pencil Sharpener                                                   1\n",
       "RCA ViSYS 25423RE1 Corded phone                                                         1\n",
       "Canon Color ImageCLASS MF8580Cdw Wireless Laser All-In-One Printer, Copier, Scanner     1\n",
       "Newell 342                                                                              1\n",
       "Eldon Jumbo ProFile Portable File Boxes Graphite/Black                                  1\n",
       "Name: Product Name, Length: 1850, dtype: int64"
      ]
     },
     "execution_count": 25,
     "metadata": {},
     "output_type": "execute_result"
    }
   ],
   "source": [
    "data['Product Name'].value_counts()"
   ]
  },
  {
   "cell_type": "markdown",
   "id": "ef794034",
   "metadata": {},
   "source": [
    "### Checking for null values"
   ]
  },
  {
   "cell_type": "code",
   "execution_count": 26,
   "id": "d6cf90c4",
   "metadata": {},
   "outputs": [
    {
     "data": {
      "text/plain": [
       "Row ID           0\n",
       "Order ID         0\n",
       "Order Date       0\n",
       "Ship Mode        0\n",
       "Customer ID      0\n",
       "Customer Name    0\n",
       "Segment          0\n",
       "Country          0\n",
       "City             0\n",
       "State            0\n",
       "Postal Code      0\n",
       "Region           0\n",
       "Product ID       0\n",
       "Category         0\n",
       "Sub-Category     0\n",
       "Product Name     0\n",
       "Sales            0\n",
       "Quantity         0\n",
       "Discount         0\n",
       "Profit           0\n",
       "dtype: int64"
      ]
     },
     "execution_count": 26,
     "metadata": {},
     "output_type": "execute_result"
    }
   ],
   "source": [
    "data.isnull().sum()"
   ]
  },
  {
   "cell_type": "markdown",
   "id": "dd6ae3a9",
   "metadata": {},
   "source": [
    "#### We do not have any null values in the dataset so we do not require null value treatment."
   ]
  },
  {
   "cell_type": "code",
   "execution_count": 27,
   "id": "7a8791c1",
   "metadata": {},
   "outputs": [
    {
     "data": {
      "text/plain": [
       "Row ID                    int64\n",
       "Order ID                 object\n",
       "Order Date       datetime64[ns]\n",
       "Ship Mode                object\n",
       "Customer ID              object\n",
       "Customer Name            object\n",
       "Segment                  object\n",
       "Country                  object\n",
       "City                     object\n",
       "State                    object\n",
       "Postal Code               int64\n",
       "Region                   object\n",
       "Product ID               object\n",
       "Category                 object\n",
       "Sub-Category             object\n",
       "Product Name             object\n",
       "Sales                   float64\n",
       "Quantity                  int64\n",
       "Discount                float64\n",
       "Profit                  float64\n",
       "dtype: object"
      ]
     },
     "execution_count": 27,
     "metadata": {},
     "output_type": "execute_result"
    }
   ],
   "source": [
    "data.dtypes"
   ]
  },
  {
   "cell_type": "markdown",
   "id": "88fb0f45",
   "metadata": {},
   "source": [
    "### Dropping the columns or features which is not directly contributing to the target variable that is sales"
   ]
  },
  {
   "cell_type": "code",
   "execution_count": 28,
   "id": "924c0f0e",
   "metadata": {},
   "outputs": [],
   "source": [
    "data.drop(['Product Name'],axis=1,inplace=True)"
   ]
  },
  {
   "cell_type": "code",
   "execution_count": 29,
   "id": "0c6a5799",
   "metadata": {},
   "outputs": [
    {
     "data": {
      "text/html": [
       "<div>\n",
       "<style scoped>\n",
       "    .dataframe tbody tr th:only-of-type {\n",
       "        vertical-align: middle;\n",
       "    }\n",
       "\n",
       "    .dataframe tbody tr th {\n",
       "        vertical-align: top;\n",
       "    }\n",
       "\n",
       "    .dataframe thead th {\n",
       "        text-align: right;\n",
       "    }\n",
       "</style>\n",
       "<table border=\"1\" class=\"dataframe\">\n",
       "  <thead>\n",
       "    <tr style=\"text-align: right;\">\n",
       "      <th></th>\n",
       "      <th>Row ID</th>\n",
       "      <th>Order ID</th>\n",
       "      <th>Order Date</th>\n",
       "      <th>Ship Mode</th>\n",
       "      <th>Customer ID</th>\n",
       "      <th>Customer Name</th>\n",
       "      <th>Segment</th>\n",
       "      <th>Country</th>\n",
       "      <th>City</th>\n",
       "      <th>State</th>\n",
       "      <th>Postal Code</th>\n",
       "      <th>Region</th>\n",
       "      <th>Product ID</th>\n",
       "      <th>Category</th>\n",
       "      <th>Sub-Category</th>\n",
       "      <th>Sales</th>\n",
       "      <th>Quantity</th>\n",
       "      <th>Discount</th>\n",
       "      <th>Profit</th>\n",
       "    </tr>\n",
       "    <tr>\n",
       "      <th>Ship Date</th>\n",
       "      <th></th>\n",
       "      <th></th>\n",
       "      <th></th>\n",
       "      <th></th>\n",
       "      <th></th>\n",
       "      <th></th>\n",
       "      <th></th>\n",
       "      <th></th>\n",
       "      <th></th>\n",
       "      <th></th>\n",
       "      <th></th>\n",
       "      <th></th>\n",
       "      <th></th>\n",
       "      <th></th>\n",
       "      <th></th>\n",
       "      <th></th>\n",
       "      <th></th>\n",
       "      <th></th>\n",
       "      <th></th>\n",
       "    </tr>\n",
       "  </thead>\n",
       "  <tbody>\n",
       "    <tr>\n",
       "      <th>2016-11-11</th>\n",
       "      <td>1</td>\n",
       "      <td>CA-2016-152156</td>\n",
       "      <td>2016-11-08</td>\n",
       "      <td>Second Class</td>\n",
       "      <td>CG-12520</td>\n",
       "      <td>Claire Gute</td>\n",
       "      <td>Consumer</td>\n",
       "      <td>United States</td>\n",
       "      <td>Henderson</td>\n",
       "      <td>Kentucky</td>\n",
       "      <td>42420</td>\n",
       "      <td>South</td>\n",
       "      <td>FUR-BO-10001798</td>\n",
       "      <td>Furniture</td>\n",
       "      <td>Bookcases</td>\n",
       "      <td>261.9600</td>\n",
       "      <td>2</td>\n",
       "      <td>0.00</td>\n",
       "      <td>41.9136</td>\n",
       "    </tr>\n",
       "    <tr>\n",
       "      <th>2016-11-11</th>\n",
       "      <td>2</td>\n",
       "      <td>CA-2016-152156</td>\n",
       "      <td>2016-11-08</td>\n",
       "      <td>Second Class</td>\n",
       "      <td>CG-12520</td>\n",
       "      <td>Claire Gute</td>\n",
       "      <td>Consumer</td>\n",
       "      <td>United States</td>\n",
       "      <td>Henderson</td>\n",
       "      <td>Kentucky</td>\n",
       "      <td>42420</td>\n",
       "      <td>South</td>\n",
       "      <td>FUR-CH-10000454</td>\n",
       "      <td>Furniture</td>\n",
       "      <td>Chairs</td>\n",
       "      <td>731.9400</td>\n",
       "      <td>3</td>\n",
       "      <td>0.00</td>\n",
       "      <td>219.5820</td>\n",
       "    </tr>\n",
       "    <tr>\n",
       "      <th>2016-06-16</th>\n",
       "      <td>3</td>\n",
       "      <td>CA-2016-138688</td>\n",
       "      <td>2016-06-12</td>\n",
       "      <td>Second Class</td>\n",
       "      <td>DV-13045</td>\n",
       "      <td>Darrin Van Huff</td>\n",
       "      <td>Corporate</td>\n",
       "      <td>United States</td>\n",
       "      <td>Los Angeles</td>\n",
       "      <td>California</td>\n",
       "      <td>90036</td>\n",
       "      <td>West</td>\n",
       "      <td>OFF-LA-10000240</td>\n",
       "      <td>Office Supplies</td>\n",
       "      <td>Labels</td>\n",
       "      <td>14.6200</td>\n",
       "      <td>2</td>\n",
       "      <td>0.00</td>\n",
       "      <td>6.8714</td>\n",
       "    </tr>\n",
       "    <tr>\n",
       "      <th>2015-10-18</th>\n",
       "      <td>4</td>\n",
       "      <td>US-2015-108966</td>\n",
       "      <td>2015-10-11</td>\n",
       "      <td>Standard Class</td>\n",
       "      <td>SO-20335</td>\n",
       "      <td>Sean O'Donnell</td>\n",
       "      <td>Consumer</td>\n",
       "      <td>United States</td>\n",
       "      <td>Fort Lauderdale</td>\n",
       "      <td>Florida</td>\n",
       "      <td>33311</td>\n",
       "      <td>South</td>\n",
       "      <td>FUR-TA-10000577</td>\n",
       "      <td>Furniture</td>\n",
       "      <td>Tables</td>\n",
       "      <td>957.5775</td>\n",
       "      <td>5</td>\n",
       "      <td>0.45</td>\n",
       "      <td>-383.0310</td>\n",
       "    </tr>\n",
       "    <tr>\n",
       "      <th>2015-10-18</th>\n",
       "      <td>5</td>\n",
       "      <td>US-2015-108966</td>\n",
       "      <td>2015-10-11</td>\n",
       "      <td>Standard Class</td>\n",
       "      <td>SO-20335</td>\n",
       "      <td>Sean O'Donnell</td>\n",
       "      <td>Consumer</td>\n",
       "      <td>United States</td>\n",
       "      <td>Fort Lauderdale</td>\n",
       "      <td>Florida</td>\n",
       "      <td>33311</td>\n",
       "      <td>South</td>\n",
       "      <td>OFF-ST-10000760</td>\n",
       "      <td>Office Supplies</td>\n",
       "      <td>Storage</td>\n",
       "      <td>22.3680</td>\n",
       "      <td>2</td>\n",
       "      <td>0.20</td>\n",
       "      <td>2.5164</td>\n",
       "    </tr>\n",
       "  </tbody>\n",
       "</table>\n",
       "</div>"
      ],
      "text/plain": [
       "            Row ID        Order ID Order Date       Ship Mode Customer ID  \\\n",
       "Ship Date                                                                   \n",
       "2016-11-11       1  CA-2016-152156 2016-11-08    Second Class    CG-12520   \n",
       "2016-11-11       2  CA-2016-152156 2016-11-08    Second Class    CG-12520   \n",
       "2016-06-16       3  CA-2016-138688 2016-06-12    Second Class    DV-13045   \n",
       "2015-10-18       4  US-2015-108966 2015-10-11  Standard Class    SO-20335   \n",
       "2015-10-18       5  US-2015-108966 2015-10-11  Standard Class    SO-20335   \n",
       "\n",
       "              Customer Name    Segment        Country             City  \\\n",
       "Ship Date                                                                \n",
       "2016-11-11      Claire Gute   Consumer  United States        Henderson   \n",
       "2016-11-11      Claire Gute   Consumer  United States        Henderson   \n",
       "2016-06-16  Darrin Van Huff  Corporate  United States      Los Angeles   \n",
       "2015-10-18   Sean O'Donnell   Consumer  United States  Fort Lauderdale   \n",
       "2015-10-18   Sean O'Donnell   Consumer  United States  Fort Lauderdale   \n",
       "\n",
       "                 State  Postal Code Region       Product ID         Category  \\\n",
       "Ship Date                                                                      \n",
       "2016-11-11    Kentucky        42420  South  FUR-BO-10001798        Furniture   \n",
       "2016-11-11    Kentucky        42420  South  FUR-CH-10000454        Furniture   \n",
       "2016-06-16  California        90036   West  OFF-LA-10000240  Office Supplies   \n",
       "2015-10-18     Florida        33311  South  FUR-TA-10000577        Furniture   \n",
       "2015-10-18     Florida        33311  South  OFF-ST-10000760  Office Supplies   \n",
       "\n",
       "           Sub-Category     Sales  Quantity  Discount    Profit  \n",
       "Ship Date                                                        \n",
       "2016-11-11    Bookcases  261.9600         2      0.00   41.9136  \n",
       "2016-11-11       Chairs  731.9400         3      0.00  219.5820  \n",
       "2016-06-16       Labels   14.6200         2      0.00    6.8714  \n",
       "2015-10-18       Tables  957.5775         5      0.45 -383.0310  \n",
       "2015-10-18      Storage   22.3680         2      0.20    2.5164  "
      ]
     },
     "execution_count": 29,
     "metadata": {},
     "output_type": "execute_result"
    }
   ],
   "source": [
    "data.head()"
   ]
  },
  {
   "cell_type": "code",
   "execution_count": 30,
   "id": "2da8eb8f",
   "metadata": {},
   "outputs": [
    {
     "data": {
      "text/plain": [
       "(9994, 19)"
      ]
     },
     "execution_count": 30,
     "metadata": {},
     "output_type": "execute_result"
    }
   ],
   "source": [
    "data.shape"
   ]
  },
  {
   "cell_type": "code",
   "execution_count": 31,
   "id": "ac5d9896",
   "metadata": {},
   "outputs": [
    {
     "data": {
      "text/html": [
       "<div>\n",
       "<style scoped>\n",
       "    .dataframe tbody tr th:only-of-type {\n",
       "        vertical-align: middle;\n",
       "    }\n",
       "\n",
       "    .dataframe tbody tr th {\n",
       "        vertical-align: top;\n",
       "    }\n",
       "\n",
       "    .dataframe thead th {\n",
       "        text-align: right;\n",
       "    }\n",
       "</style>\n",
       "<table border=\"1\" class=\"dataframe\">\n",
       "  <thead>\n",
       "    <tr style=\"text-align: right;\">\n",
       "      <th></th>\n",
       "      <th>Ship Date</th>\n",
       "      <th>Row ID</th>\n",
       "      <th>Order ID</th>\n",
       "      <th>Order Date</th>\n",
       "      <th>Ship Mode</th>\n",
       "      <th>Customer ID</th>\n",
       "      <th>Customer Name</th>\n",
       "      <th>Segment</th>\n",
       "      <th>Country</th>\n",
       "      <th>City</th>\n",
       "      <th>State</th>\n",
       "      <th>Postal Code</th>\n",
       "      <th>Region</th>\n",
       "      <th>Product ID</th>\n",
       "      <th>Category</th>\n",
       "      <th>Sub-Category</th>\n",
       "      <th>Sales</th>\n",
       "      <th>Quantity</th>\n",
       "      <th>Discount</th>\n",
       "      <th>Profit</th>\n",
       "    </tr>\n",
       "  </thead>\n",
       "  <tbody>\n",
       "    <tr>\n",
       "      <th>0</th>\n",
       "      <td>2014-01-07</td>\n",
       "      <td>7981</td>\n",
       "      <td>CA-2014-103800</td>\n",
       "      <td>2014-01-03</td>\n",
       "      <td>Standard Class</td>\n",
       "      <td>DP-13000</td>\n",
       "      <td>Darren Powers</td>\n",
       "      <td>Consumer</td>\n",
       "      <td>United States</td>\n",
       "      <td>Houston</td>\n",
       "      <td>Texas</td>\n",
       "      <td>77095</td>\n",
       "      <td>Central</td>\n",
       "      <td>OFF-PA-10000174</td>\n",
       "      <td>Office Supplies</td>\n",
       "      <td>Paper</td>\n",
       "      <td>16.448</td>\n",
       "      <td>2</td>\n",
       "      <td>0.2</td>\n",
       "      <td>5.5512</td>\n",
       "    </tr>\n",
       "    <tr>\n",
       "      <th>1</th>\n",
       "      <td>2014-01-08</td>\n",
       "      <td>740</td>\n",
       "      <td>CA-2014-112326</td>\n",
       "      <td>2014-01-04</td>\n",
       "      <td>Standard Class</td>\n",
       "      <td>PO-19195</td>\n",
       "      <td>Phillina Ober</td>\n",
       "      <td>Home Office</td>\n",
       "      <td>United States</td>\n",
       "      <td>Naperville</td>\n",
       "      <td>Illinois</td>\n",
       "      <td>60540</td>\n",
       "      <td>Central</td>\n",
       "      <td>OFF-LA-10003223</td>\n",
       "      <td>Office Supplies</td>\n",
       "      <td>Labels</td>\n",
       "      <td>11.784</td>\n",
       "      <td>3</td>\n",
       "      <td>0.2</td>\n",
       "      <td>4.2717</td>\n",
       "    </tr>\n",
       "    <tr>\n",
       "      <th>2</th>\n",
       "      <td>2014-01-08</td>\n",
       "      <td>741</td>\n",
       "      <td>CA-2014-112326</td>\n",
       "      <td>2014-01-04</td>\n",
       "      <td>Standard Class</td>\n",
       "      <td>PO-19195</td>\n",
       "      <td>Phillina Ober</td>\n",
       "      <td>Home Office</td>\n",
       "      <td>United States</td>\n",
       "      <td>Naperville</td>\n",
       "      <td>Illinois</td>\n",
       "      <td>60540</td>\n",
       "      <td>Central</td>\n",
       "      <td>OFF-ST-10002743</td>\n",
       "      <td>Office Supplies</td>\n",
       "      <td>Storage</td>\n",
       "      <td>272.736</td>\n",
       "      <td>3</td>\n",
       "      <td>0.2</td>\n",
       "      <td>-64.7748</td>\n",
       "    </tr>\n",
       "  </tbody>\n",
       "</table>\n",
       "</div>"
      ],
      "text/plain": [
       "   Ship Date  Row ID        Order ID Order Date       Ship Mode Customer ID  \\\n",
       "0 2014-01-07    7981  CA-2014-103800 2014-01-03  Standard Class    DP-13000   \n",
       "1 2014-01-08     740  CA-2014-112326 2014-01-04  Standard Class    PO-19195   \n",
       "2 2014-01-08     741  CA-2014-112326 2014-01-04  Standard Class    PO-19195   \n",
       "\n",
       "   Customer Name      Segment        Country        City     State  \\\n",
       "0  Darren Powers     Consumer  United States     Houston     Texas   \n",
       "1  Phillina Ober  Home Office  United States  Naperville  Illinois   \n",
       "2  Phillina Ober  Home Office  United States  Naperville  Illinois   \n",
       "\n",
       "   Postal Code   Region       Product ID         Category Sub-Category  \\\n",
       "0        77095  Central  OFF-PA-10000174  Office Supplies        Paper   \n",
       "1        60540  Central  OFF-LA-10003223  Office Supplies       Labels   \n",
       "2        60540  Central  OFF-ST-10002743  Office Supplies      Storage   \n",
       "\n",
       "     Sales  Quantity  Discount   Profit  \n",
       "0   16.448         2       0.2   5.5512  \n",
       "1   11.784         3       0.2   4.2717  \n",
       "2  272.736         3       0.2 -64.7748  "
      ]
     },
     "execution_count": 31,
     "metadata": {},
     "output_type": "execute_result"
    }
   ],
   "source": [
    "data1=data.sort_values('Order Date').reset_index()\n",
    "data1.head(3)"
   ]
  },
  {
   "cell_type": "code",
   "execution_count": 32,
   "id": "0611cb0b",
   "metadata": {},
   "outputs": [
    {
     "data": {
      "text/plain": [
       "(Timestamp('2014-01-03 00:00:00'), Timestamp('2017-12-30 00:00:00'))"
      ]
     },
     "execution_count": 32,
     "metadata": {},
     "output_type": "execute_result"
    }
   ],
   "source": [
    "#Check the time spam\n",
    "data1['Order Date'].min(), data1['Order Date'].max()"
   ]
  },
  {
   "cell_type": "code",
   "execution_count": 33,
   "id": "8162bd08",
   "metadata": {},
   "outputs": [],
   "source": [
    "#setting oder date as index number\n",
    "data1.set_index(\"Order Date\", inplace = True)\n"
   ]
  },
  {
   "cell_type": "code",
   "execution_count": 34,
   "id": "6960f615",
   "metadata": {},
   "outputs": [
    {
     "data": {
      "text/plain": [
       "Order Date\n",
       "2017-12-30      3.024\n",
       "2017-12-30     52.776\n",
       "2017-12-30     90.930\n",
       "2017-12-30     13.904\n",
       "2017-12-30    323.136\n",
       "Name: Sales, dtype: float64"
      ]
     },
     "execution_count": 34,
     "metadata": {},
     "output_type": "execute_result"
    }
   ],
   "source": [
    "sales=data1['Sales']\n",
    "sales.tail()"
   ]
  },
  {
   "cell_type": "code",
   "execution_count": 35,
   "id": "f739d3d0",
   "metadata": {},
   "outputs": [],
   "source": [
    "energy=sales.resample('M').mean()"
   ]
  },
  {
   "cell_type": "code",
   "execution_count": 36,
   "id": "964ec6cb",
   "metadata": {},
   "outputs": [
    {
     "data": {
      "text/plain": [
       "<AxesSubplot:xlabel='Order Date'>"
      ]
     },
     "execution_count": 36,
     "metadata": {},
     "output_type": "execute_result"
    },
    {
     "data": {
      "image/png": "[encoded data removed]",
      "text/plain": [
       "<Figure size 720x576 with 1 Axes>"
      ]
     },
     "metadata": {
      "needs_background": "light"
     },
     "output_type": "display_data"
    }
   ],
   "source": [
    "energy.plot(figsize=(10,8))"
   ]
  },
  {
   "cell_type": "markdown",
   "id": "ead067e9",
   "metadata": {},
   "source": [
    "#### Showing the 4 years sale of furniture"
   ]
  },
  {
   "cell_type": "markdown",
   "id": "f365328b",
   "metadata": {},
   "source": [
    "## scaling of the data for better comparision"
   ]
  },
  {
   "cell_type": "markdown",
   "id": "91376a40",
   "metadata": {},
   "source": [
    "### Correlation"
   ]
  },
  {
   "cell_type": "code",
   "execution_count": 37,
   "id": "80629b0a",
   "metadata": {},
   "outputs": [
    {
     "data": {
      "text/html": [
       "<div>\n",
       "<style scoped>\n",
       "    .dataframe tbody tr th:only-of-type {\n",
       "        vertical-align: middle;\n",
       "    }\n",
       "\n",
       "    .dataframe tbody tr th {\n",
       "        vertical-align: top;\n",
       "    }\n",
       "\n",
       "    .dataframe thead th {\n",
       "        text-align: right;\n",
       "    }\n",
       "</style>\n",
       "<table border=\"1\" class=\"dataframe\">\n",
       "  <thead>\n",
       "    <tr style=\"text-align: right;\">\n",
       "      <th></th>\n",
       "      <th>Row ID</th>\n",
       "      <th>Postal Code</th>\n",
       "      <th>Sales</th>\n",
       "      <th>Quantity</th>\n",
       "      <th>Discount</th>\n",
       "      <th>Profit</th>\n",
       "    </tr>\n",
       "  </thead>\n",
       "  <tbody>\n",
       "    <tr>\n",
       "      <th>Row ID</th>\n",
       "      <td>1.000000</td>\n",
       "      <td>0.009671</td>\n",
       "      <td>-0.001359</td>\n",
       "      <td>-0.004016</td>\n",
       "      <td>0.013480</td>\n",
       "      <td>0.012497</td>\n",
       "    </tr>\n",
       "    <tr>\n",
       "      <th>Postal Code</th>\n",
       "      <td>0.009671</td>\n",
       "      <td>1.000000</td>\n",
       "      <td>-0.023854</td>\n",
       "      <td>0.012761</td>\n",
       "      <td>0.058443</td>\n",
       "      <td>-0.029961</td>\n",
       "    </tr>\n",
       "    <tr>\n",
       "      <th>Sales</th>\n",
       "      <td>-0.001359</td>\n",
       "      <td>-0.023854</td>\n",
       "      <td>1.000000</td>\n",
       "      <td>0.200795</td>\n",
       "      <td>-0.028190</td>\n",
       "      <td>0.479064</td>\n",
       "    </tr>\n",
       "    <tr>\n",
       "      <th>Quantity</th>\n",
       "      <td>-0.004016</td>\n",
       "      <td>0.012761</td>\n",
       "      <td>0.200795</td>\n",
       "      <td>1.000000</td>\n",
       "      <td>0.008623</td>\n",
       "      <td>0.066253</td>\n",
       "    </tr>\n",
       "    <tr>\n",
       "      <th>Discount</th>\n",
       "      <td>0.013480</td>\n",
       "      <td>0.058443</td>\n",
       "      <td>-0.028190</td>\n",
       "      <td>0.008623</td>\n",
       "      <td>1.000000</td>\n",
       "      <td>-0.219487</td>\n",
       "    </tr>\n",
       "    <tr>\n",
       "      <th>Profit</th>\n",
       "      <td>0.012497</td>\n",
       "      <td>-0.029961</td>\n",
       "      <td>0.479064</td>\n",
       "      <td>0.066253</td>\n",
       "      <td>-0.219487</td>\n",
       "      <td>1.000000</td>\n",
       "    </tr>\n",
       "  </tbody>\n",
       "</table>\n",
       "</div>"
      ],
      "text/plain": [
       "               Row ID  Postal Code     Sales  Quantity  Discount    Profit\n",
       "Row ID       1.000000     0.009671 -0.001359 -0.004016  0.013480  0.012497\n",
       "Postal Code  0.009671     1.000000 -0.023854  0.012761  0.058443 -0.029961\n",
       "Sales       -0.001359    -0.023854  1.000000  0.200795 -0.028190  0.479064\n",
       "Quantity    -0.004016     0.012761  0.200795  1.000000  0.008623  0.066253\n",
       "Discount     0.013480     0.058443 -0.028190  0.008623  1.000000 -0.219487\n",
       "Profit       0.012497    -0.029961  0.479064  0.066253 -0.219487  1.000000"
      ]
     },
     "execution_count": 37,
     "metadata": {},
     "output_type": "execute_result"
    }
   ],
   "source": [
    "data1.corr()"
   ]
  },
  {
   "cell_type": "code",
   "execution_count": 38,
   "id": "7d5d3c4a",
   "metadata": {},
   "outputs": [
    {
     "data": {
      "text/html": [
       "<style type=\"text/css\">\n",
       "#T_a6fd3_row0_col0, #T_a6fd3_row1_col1, #T_a6fd3_row2_col2, #T_a6fd3_row3_col3, #T_a6fd3_row4_col4, #T_a6fd3_row5_col5 {\n",
       "  background-color: #666666;\n",
       "  color: #f1f1f1;\n",
       "}\n",
       "#T_a6fd3_row0_col1, #T_a6fd3_row0_col2, #T_a6fd3_row0_col3, #T_a6fd3_row1_col0, #T_a6fd3_row1_col2, #T_a6fd3_row1_col3, #T_a6fd3_row2_col0, #T_a6fd3_row2_col1, #T_a6fd3_row3_col0, #T_a6fd3_row3_col1, #T_a6fd3_row4_col0, #T_a6fd3_row4_col1, #T_a6fd3_row4_col2, #T_a6fd3_row4_col3, #T_a6fd3_row4_col5, #T_a6fd3_row5_col0, #T_a6fd3_row5_col1, #T_a6fd3_row5_col3, #T_a6fd3_row5_col4 {\n",
       "  background-color: #7fc97f;\n",
       "  color: #000000;\n",
       "}\n",
       "#T_a6fd3_row0_col4, #T_a6fd3_row0_col5, #T_a6fd3_row1_col4, #T_a6fd3_row1_col5, #T_a6fd3_row2_col3, #T_a6fd3_row2_col4, #T_a6fd3_row3_col2, #T_a6fd3_row3_col4, #T_a6fd3_row3_col5 {\n",
       "  background-color: #beaed4;\n",
       "  color: #000000;\n",
       "}\n",
       "#T_a6fd3_row2_col5 {\n",
       "  background-color: #386cb0;\n",
       "  color: #f1f1f1;\n",
       "}\n",
       "#T_a6fd3_row5_col2 {\n",
       "  background-color: #ffff99;\n",
       "  color: #000000;\n",
       "}\n",
       "</style>\n",
       "<table id=\"T_a6fd3\">\n",
       "  <thead>\n",
       "    <tr>\n",
       "      <th class=\"blank level0\" >&nbsp;</th>\n",
       "      <th id=\"T_a6fd3_level0_col0\" class=\"col_heading level0 col0\" >Row ID</th>\n",
       "      <th id=\"T_a6fd3_level0_col1\" class=\"col_heading level0 col1\" >Postal Code</th>\n",
       "      <th id=\"T_a6fd3_level0_col2\" class=\"col_heading level0 col2\" >Sales</th>\n",
       "      <th id=\"T_a6fd3_level0_col3\" class=\"col_heading level0 col3\" >Quantity</th>\n",
       "      <th id=\"T_a6fd3_level0_col4\" class=\"col_heading level0 col4\" >Discount</th>\n",
       "      <th id=\"T_a6fd3_level0_col5\" class=\"col_heading level0 col5\" >Profit</th>\n",
       "    </tr>\n",
       "  </thead>\n",
       "  <tbody>\n",
       "    <tr>\n",
       "      <th id=\"T_a6fd3_level0_row0\" class=\"row_heading level0 row0\" >Row ID</th>\n",
       "      <td id=\"T_a6fd3_row0_col0\" class=\"data row0 col0\" >1.000000</td>\n",
       "      <td id=\"T_a6fd3_row0_col1\" class=\"data row0 col1\" >0.009671</td>\n",
       "      <td id=\"T_a6fd3_row0_col2\" class=\"data row0 col2\" >-0.001359</td>\n",
       "      <td id=\"T_a6fd3_row0_col3\" class=\"data row0 col3\" >-0.004016</td>\n",
       "      <td id=\"T_a6fd3_row0_col4\" class=\"data row0 col4\" >0.013480</td>\n",
       "      <td id=\"T_a6fd3_row0_col5\" class=\"data row0 col5\" >0.012497</td>\n",
       "    </tr>\n",
       "    <tr>\n",
       "      <th id=\"T_a6fd3_level0_row1\" class=\"row_heading level0 row1\" >Postal Code</th>\n",
       "      <td id=\"T_a6fd3_row1_col0\" class=\"data row1 col0\" >0.009671</td>\n",
       "      <td id=\"T_a6fd3_row1_col1\" class=\"data row1 col1\" >1.000000</td>\n",
       "      <td id=\"T_a6fd3_row1_col2\" class=\"data row1 col2\" >-0.023854</td>\n",
       "      <td id=\"T_a6fd3_row1_col3\" class=\"data row1 col3\" >0.012761</td>\n",
       "      <td id=\"T_a6fd3_row1_col4\" class=\"data row1 col4\" >0.058443</td>\n",
       "      <td id=\"T_a6fd3_row1_col5\" class=\"data row1 col5\" >-0.029961</td>\n",
       "    </tr>\n",
       "    <tr>\n",
       "      <th id=\"T_a6fd3_level0_row2\" class=\"row_heading level0 row2\" >Sales</th>\n",
       "      <td id=\"T_a6fd3_row2_col0\" class=\"data row2 col0\" >-0.001359</td>\n",
       "      <td id=\"T_a6fd3_row2_col1\" class=\"data row2 col1\" >-0.023854</td>\n",
       "      <td id=\"T_a6fd3_row2_col2\" class=\"data row2 col2\" >1.000000</td>\n",
       "      <td id=\"T_a6fd3_row2_col3\" class=\"data row2 col3\" >0.200795</td>\n",
       "      <td id=\"T_a6fd3_row2_col4\" class=\"data row2 col4\" >-0.028190</td>\n",
       "      <td id=\"T_a6fd3_row2_col5\" class=\"data row2 col5\" >0.479064</td>\n",
       "    </tr>\n",
       "    <tr>\n",
       "      <th id=\"T_a6fd3_level0_row3\" class=\"row_heading level0 row3\" >Quantity</th>\n",
       "      <td id=\"T_a6fd3_row3_col0\" class=\"data row3 col0\" >-0.004016</td>\n",
       "      <td id=\"T_a6fd3_row3_col1\" class=\"data row3 col1\" >0.012761</td>\n",
       "      <td id=\"T_a6fd3_row3_col2\" class=\"data row3 col2\" >0.200795</td>\n",
       "      <td id=\"T_a6fd3_row3_col3\" class=\"data row3 col3\" >1.000000</td>\n",
       "      <td id=\"T_a6fd3_row3_col4\" class=\"data row3 col4\" >0.008623</td>\n",
       "      <td id=\"T_a6fd3_row3_col5\" class=\"data row3 col5\" >0.066253</td>\n",
       "    </tr>\n",
       "    <tr>\n",
       "      <th id=\"T_a6fd3_level0_row4\" class=\"row_heading level0 row4\" >Discount</th>\n",
       "      <td id=\"T_a6fd3_row4_col0\" class=\"data row4 col0\" >0.013480</td>\n",
       "      <td id=\"T_a6fd3_row4_col1\" class=\"data row4 col1\" >0.058443</td>\n",
       "      <td id=\"T_a6fd3_row4_col2\" class=\"data row4 col2\" >-0.028190</td>\n",
       "      <td id=\"T_a6fd3_row4_col3\" class=\"data row4 col3\" >0.008623</td>\n",
       "      <td id=\"T_a6fd3_row4_col4\" class=\"data row4 col4\" >1.000000</td>\n",
       "      <td id=\"T_a6fd3_row4_col5\" class=\"data row4 col5\" >-0.219487</td>\n",
       "    </tr>\n",
       "    <tr>\n",
       "      <th id=\"T_a6fd3_level0_row5\" class=\"row_heading level0 row5\" >Profit</th>\n",
       "      <td id=\"T_a6fd3_row5_col0\" class=\"data row5 col0\" >0.012497</td>\n",
       "      <td id=\"T_a6fd3_row5_col1\" class=\"data row5 col1\" >-0.029961</td>\n",
       "      <td id=\"T_a6fd3_row5_col2\" class=\"data row5 col2\" >0.479064</td>\n",
       "      <td id=\"T_a6fd3_row5_col3\" class=\"data row5 col3\" >0.066253</td>\n",
       "      <td id=\"T_a6fd3_row5_col4\" class=\"data row5 col4\" >-0.219487</td>\n",
       "      <td id=\"T_a6fd3_row5_col5\" class=\"data row5 col5\" >1.000000</td>\n",
       "    </tr>\n",
       "  </tbody>\n",
       "</table>\n"
      ],
      "text/plain": [
       "<pandas.io.formats.style.Styler at 0x2912ae2eb80>"
      ]
     },
     "execution_count": 38,
     "metadata": {},
     "output_type": "execute_result"
    }
   ],
   "source": [
    "corr=data1.corr()\n",
    "corr.style.background_gradient(cmap='Accent')"
   ]
  },
  {
   "cell_type": "code",
   "execution_count": 39,
   "id": "893d3d96",
   "metadata": {},
   "outputs": [],
   "source": [
    "x=data1.corr()"
   ]
  },
  {
   "cell_type": "code",
   "execution_count": 40,
   "id": "8accf519",
   "metadata": {},
   "outputs": [
    {
     "data": {
      "text/plain": [
       "<AxesSubplot:>"
      ]
     },
     "execution_count": 40,
     "metadata": {},
     "output_type": "execute_result"
    },
    {
     "data": {
      "image/png": "[encoded data removed]",
      "text/plain": [
       "<Figure size 432x288 with 2 Axes>"
      ]
     },
     "metadata": {
      "needs_background": "light"
     },
     "output_type": "display_data"
    }
   ],
   "source": [
    "import seaborn as sns\n",
    "\n",
    "sns.heatmap(x)"
   ]
  },
  {
   "cell_type": "markdown",
   "id": "f676326d",
   "metadata": {},
   "source": [
    "#### As we can see from the heatmap that the most correlated factor is sales which is going to affected by discount and profit."
   ]
  },
  {
   "cell_type": "markdown",
   "id": "c95a93da",
   "metadata": {},
   "source": [
    "## Visualization"
   ]
  },
  {
   "cell_type": "markdown",
   "id": "4c300905",
   "metadata": {},
   "source": [
    "## Characteristics of Time series"
   ]
  },
  {
   "cell_type": "code",
   "execution_count": 53,
   "id": "9268d266",
   "metadata": {
    "scrolled": true
   },
   "outputs": [
    {
     "data": {
      "image/png": "[encoded data removed]",
      "text/plain": [
       "<Figure size 1440x864 with 4 Axes>"
      ]
     },
     "metadata": {
      "needs_background": "light"
     },
     "output_type": "display_data"
    }
   ],
   "source": [
    "# different components of the Time series data\n",
    "# period = 12 since the data is monthly\n",
    "\n",
    "#decomposition=seasonal_decompose(closeprice, period=12)\n",
    "decomposition=seasonal_decompose(np.asarray(energy), period=12)\n",
    "d_trend=decomposition.trend\n",
    "d_seasonal=decomposition.seasonal\n",
    "d_residual=decomposition.resid\n",
    "\n",
    "# plotting all the 4 graphs\n",
    "fig,ax = plt.subplots(4,1,figsize=(20,12))\n",
    "\n",
    "plt.subplot(411)\n",
    "plt.plot(energy,label='Furniture Data - as it is')\n",
    "plt.legend(loc='best')\n",
    "\n",
    "plt.subplot(412)\n",
    "plt.plot(d_trend,label='Trend')\n",
    "plt.legend(loc='best')\n",
    "\n",
    "plt.subplot(413)\n",
    "plt.plot(d_seasonal,label='Seasonal')\n",
    "plt.legend(loc='best')\n",
    "\n",
    "plt.subplot(414)\n",
    "plt.plot(d_residual,label='Residual')\n",
    "plt.legend(loc='best')\n",
    "\n",
    "plt.tight_layout()"
   ]
  },
  {
   "cell_type": "markdown",
   "id": "8fa9da4b",
   "metadata": {},
   "source": [
    "#### We can observe from the  above graph that the data has trend and is also seasonal."
   ]
  },
  {
   "cell_type": "markdown",
   "id": "8c31326d",
   "metadata": {},
   "source": [
    "## Checking  the  Stationarity"
   ]
  },
  {
   "cell_type": "code",
   "execution_count": 54,
   "id": "8f89abce",
   "metadata": {},
   "outputs": [],
   "source": [
    "# dickey-fuller test for stationarity\n",
    "def checkStationarity(data):\n",
    "    pvalue = adfuller(data)[1]\n",
    "    '''\n",
    "    output:-> \n",
    "    1) test statistic, \n",
    "    2) p-value, \n",
    "    3) number of lags, \n",
    "    4) total observations\n",
    "    \n",
    "    '''\n",
    "    \n",
    "    if(pvalue>0.05):\n",
    "        msg = 'p-value={}. Data is not stationary'.format(pvalue)\n",
    "    else:\n",
    "        msg='p-value={}. Data is stationary'.format(pvalue)\n",
    "        \n",
    "    return(msg)"
   ]
  },
  {
   "cell_type": "code",
   "execution_count": 55,
   "id": "77346ad7",
   "metadata": {},
   "outputs": [
    {
     "data": {
      "text/plain": [
       "'p-value=0.0. Data is stationary'"
      ]
     },
     "execution_count": 55,
     "metadata": {},
     "output_type": "execute_result"
    }
   ],
   "source": [
    "# check the data for stationarity\n",
    "ret=checkStationarity(sales); \n",
    "ret"
   ]
  },
  {
   "cell_type": "markdown",
   "id": "431d139f",
   "metadata": {},
   "source": [
    "#### We are doing ADF test that is augumented dicky fuller test to check the stionarity of the data."
   ]
  },
  {
   "cell_type": "markdown",
   "id": "e04b7e9d",
   "metadata": {},
   "source": [
    "## Plotting  ACF(Autocorrelation factor) and PACF(Partial auto-correlation factor)"
   ]
  },
  {
   "cell_type": "code",
   "execution_count": 56,
   "id": "606bc953",
   "metadata": {},
   "outputs": [
    {
     "data": {
      "image/png": "[encoded data removed]",
      "text/plain": [
       "<Figure size 432x288 with 2 Axes>"
      ]
     },
     "metadata": {
      "needs_background": "light"
     },
     "output_type": "display_data"
    }
   ],
   "source": [
    "# p -> PACF (partial autocorrelation graph)\n",
    "# q -> ACF (auto correlation graph)\n",
    "# d -> differential level (from top)\n",
    "\n",
    "# since, lags cannot be determined at the beginning, set a random number initially\n",
    "lag_acf = acf(sales.dropna(), nlags=40)\n",
    "lag_pacf = pacf(sales.dropna(), nlags=40, method='ols')\n",
    "\n",
    "# plot PACF (p)\n",
    "plt.subplot(121)\n",
    "plt.plot(lag_pacf)\n",
    "plt.axhline(y=0,linestyle='--',color=\"gray\")\n",
    "plt.axhline(y=-1.96/np.sqrt(len(sales)),linestyle='--',color=\"gray\")\n",
    "plt.axhline(y=1.96/np.sqrt(len(sales)),linestyle='--',color=\"gray\")\n",
    "plt.title(\"Partial AutoCorrelation\")\n",
    "\n",
    "# plot ACF (q)\n",
    "plt.subplot(122)\n",
    "plt.plot(lag_acf)\n",
    "plt.axhline(y=0,linestyle='--',color=\"gray\")\n",
    "plt.axhline(y=-1.96/np.sqrt(len(sales)),linestyle='--',color=\"gray\")\n",
    "plt.axhline(y=1.96/np.sqrt(len(sales)),linestyle='--',color=\"gray\")\n",
    "plt.title(\"AutoCorrelation\")\n",
    "\n",
    "plt.tight_layout()"
   ]
  },
  {
   "cell_type": "code",
   "execution_count": 57,
   "id": "aa0303f7",
   "metadata": {},
   "outputs": [
    {
     "data": {
      "image/png": "[encoded data removed]",
      "text/plain": [
       "<Figure size 576x432 with 2 Axes>"
      ]
     },
     "metadata": {
      "needs_background": "light"
     },
     "output_type": "display_data"
    }
   ],
   "source": [
    "fig = plt.figure(figsize=(8, 6))\n",
    "\n",
    "# Show ACF\n",
    "ax1 = fig.add_subplot(211)\n",
    "sm.graphics.tsa.plot_acf(energy, lags=20, ax=ax1)\n",
    "\n",
    "# Show PACF\n",
    "ax2 = fig.add_subplot(212)\n",
    "sm.graphics.tsa.plot_pacf(energy, lags=20, ax=ax2)\n",
    "\n",
    "plt.tight_layout()"
   ]
  },
  {
   "cell_type": "markdown",
   "id": "13d07e44",
   "metadata": {},
   "source": [
    "#### Fromt the above graphs we can observe that the good value of p from Autocorrelation(ACF)  is 2 and value of q from Partial autocorrelation(PACF) is also 2"
   ]
  },
  {
   "cell_type": "markdown",
   "id": "fba98eed",
   "metadata": {},
   "source": [
    "### split the data into train and test "
   ]
  },
  {
   "cell_type": "code",
   "execution_count": 58,
   "id": "c3aff298",
   "metadata": {},
   "outputs": [
    {
     "name": "stdout",
     "output_type": "stream",
     "text": [
      "train = 40, test = 8\n"
     ]
    }
   ],
   "source": [
    "# split the data into train and test \n",
    "# total 48 months are there so I choose accordingly\n",
    "train = energy.iloc[:40]\n",
    "test = energy.iloc[40:]\n",
    "print(\"train = {}, test = {}\".format(len(train), len(test)))"
   ]
  },
  {
   "cell_type": "markdown",
   "id": "34b6af84",
   "metadata": {},
   "source": [
    "## ARMA MODEL"
   ]
  },
  {
   "cell_type": "markdown",
   "id": "934d03f6",
   "metadata": {},
   "source": [
    "### Use ARMA for selection of p, d, q"
   ]
  },
  {
   "cell_type": "code",
   "execution_count": 75,
   "id": "a6cfdb77",
   "metadata": {},
   "outputs": [
    {
     "name": "stdout",
     "output_type": "stream",
     "text": [
      "                               SARIMAX Results                                \n",
      "==============================================================================\n",
      "Dep. Variable:                  Sales   No. Observations:                    8\n",
      "Model:                 ARIMA(1, 0, 0)   Log Likelihood                 -39.798\n",
      "Date:                Sun, 27 Nov 2022   AIC                             85.596\n",
      "Time:                        19:31:15   BIC                             85.835\n",
      "Sample:                    05-31-2017   HQIC                            83.989\n",
      "                         - 12-31-2017                                         \n",
      "Covariance Type:                  opg                                         \n",
      "==============================================================================\n",
      "                 coef    std err          z      P>|z|      [0.025      0.975]\n",
      "------------------------------------------------------------------------------\n",
      "const        226.1803     11.187     20.218      0.000     204.254     248.106\n",
      "ar.L1         -0.4796      0.434     -1.106      0.269      -1.330       0.370\n",
      "sigma2      1186.7076   1526.049      0.778      0.437   -1804.294    4177.709\n",
      "===================================================================================\n",
      "Ljung-Box (L1) (Q):                   0.01   Jarque-Bera (JB):                 1.00\n",
      "Prob(Q):                              0.94   Prob(JB):                         0.61\n",
      "Heteroskedasticity (H):               1.07   Skew:                             0.52\n",
      "Prob(H) (two-sided):                  0.96   Kurtosis:                         1.62\n",
      "===================================================================================\n",
      "\n",
      "Warnings:\n",
      "[1] Covariance matrix calculated using the outer product of gradients (complex-step).\n"
     ]
    }
   ],
   "source": [
    "from statsmodels.tsa.arima_model import ARMA\n",
    "# With p=1\n",
    "ar_m1 = ARIMA(test, order = (1,0,0))\n",
    "m1 = ar_m1.fit()\n",
    "print(m1.summary())"
   ]
  },
  {
   "cell_type": "code",
   "execution_count": 76,
   "id": "706c31fa",
   "metadata": {},
   "outputs": [
    {
     "name": "stdout",
     "output_type": "stream",
     "text": [
      "                               SARIMAX Results                                \n",
      "==============================================================================\n",
      "Dep. Variable:                  Sales   No. Observations:                    8\n",
      "Model:                 ARIMA(2, 0, 0)   Log Likelihood                 -39.713\n",
      "Date:                Sun, 27 Nov 2022   AIC                             87.426\n",
      "Time:                        19:31:24   BIC                             87.744\n",
      "Sample:                    05-31-2017   HQIC                            85.283\n",
      "                         - 12-31-2017                                         \n",
      "Covariance Type:                  opg                                         \n",
      "==============================================================================\n",
      "                 coef    std err          z      P>|z|      [0.025      0.975]\n",
      "------------------------------------------------------------------------------\n",
      "const        227.1851      9.269     24.511      0.000     209.019     245.352\n",
      "ar.L1         -0.5789      0.536     -1.079      0.281      -1.630       0.472\n",
      "ar.L2         -0.1679      0.454     -0.370      0.711      -1.057       0.721\n",
      "sigma2      1150.4925   1549.771      0.742      0.458   -1887.003    4187.988\n",
      "===================================================================================\n",
      "Ljung-Box (L1) (Q):                   0.05   Jarque-Bera (JB):                 0.95\n",
      "Prob(Q):                              0.83   Prob(JB):                         0.62\n",
      "Heteroskedasticity (H):               0.73   Skew:                             0.35\n",
      "Prob(H) (two-sided):                  0.80   Kurtosis:                         1.46\n",
      "===================================================================================\n",
      "\n",
      "Warnings:\n",
      "[1] Covariance matrix calculated using the outer product of gradients (complex-step).\n"
     ]
    }
   ],
   "source": [
    "# With p=2\n",
    "ar_m2 = ARIMA(test, order = (2,0,0))\n",
    "m2 = ar_m2.fit()\n",
    "print(m2.summary())"
   ]
  },
  {
   "cell_type": "code",
   "execution_count": 77,
   "id": "cea8c50e",
   "metadata": {},
   "outputs": [
    {
     "name": "stdout",
     "output_type": "stream",
     "text": [
      "Order Date\n",
      "2017-05-31    227.185074\n",
      "2017-06-30    249.137399\n",
      "2017-07-31    240.949432\n",
      "2017-08-31    244.592729\n",
      "2017-09-30    195.601508\n",
      "2017-10-31    237.413572\n",
      "2017-11-30    213.614720\n",
      "2017-12-31    203.637662\n",
      "Freq: M, Name: predicted_mean, dtype: float64\n"
     ]
    }
   ],
   "source": [
    "# predictions\n",
    "predictions = m2.predict(0,len(test)-1)\n",
    "print(predictions)"
   ]
  },
  {
   "cell_type": "code",
   "execution_count": 78,
   "id": "3dcceb20",
   "metadata": {},
   "outputs": [
    {
     "name": "stdout",
     "output_type": "stream",
     "text": [
      "       actual   predicted        err\n",
      "0  182.897150  227.185074 -44.287925\n",
      "1  216.251942  249.137399 -32.885457\n",
      "2  200.285027  240.949432 -40.664406\n",
      "3  289.545358  244.592729  44.952629\n",
      "4  191.430614  195.601508  -4.170894\n",
      "5  260.996387  237.413572  23.582815\n",
      "6  258.056264  213.614720  44.441544\n",
      "7  181.448742  203.637662 -22.188920\n"
     ]
    }
   ],
   "source": [
    "# actual vs predicted values\n",
    "# print(\"test = {}, predicted = {}\".format(len(test), len(predictions) ))\n",
    "actual = []; pred = []\n",
    "\n",
    "for i in range(len(predictions)):\n",
    "    actual.append(test[i])\n",
    "    pred.append(predictions[i])\n",
    "\n",
    "df_res1 = pd.DataFrame({'actual':actual, 'predicted':pred})\n",
    "df_res1['err'] = df_res1.actual - df_res1.predicted\n",
    "print(df_res1)"
   ]
  },
  {
   "cell_type": "markdown",
   "id": "1cdb611e",
   "metadata": {},
   "source": [
    "### # LJung-Box test"
   ]
  },
  {
   "cell_type": "code",
   "execution_count": 79,
   "id": "171d5ffa",
   "metadata": {},
   "outputs": [
    {
     "name": "stdout",
     "output_type": "stream",
     "text": [
      "Fail-to-Reject H0. Good model\n"
     ]
    }
   ],
   "source": [
    "\n",
    "pvalue = sm.stats.acorr_ljungbox(m2.resid,lags=[1],return_df=True)['lb_pvalue'].values\n",
    "if pvalue < 0.05:\n",
    "    print(\"Reject H0. Bad model\")\n",
    "else:\n",
    "    print(\"Fail-to-Reject H0. Good model\")"
   ]
  },
  {
   "cell_type": "markdown",
   "id": "3e3a7b8a",
   "metadata": {},
   "source": [
    "###  MSE"
   ]
  },
  {
   "cell_type": "code",
   "execution_count": 81,
   "id": "270a379c",
   "metadata": {},
   "outputs": [
    {
     "name": "stdout",
     "output_type": "stream",
     "text": [
      "ARIMA Model. Order=(2,0,0)\n",
      "\tMSE = 1219.768849543621\n",
      "\tRMSE = 34.925189327240886\n"
     ]
    }
   ],
   "source": [
    "\n",
    "p=2; q=0;d=0\n",
    "msg1 = 'ARIMA Model. Order=(' + str(p) + ',' + str(d) + ',' + str(q) + ')'\n",
    "mse1 = mean_squared_error(df_res1.actual, df_res1.predicted)\n",
    "print(msg1 + \"\\n\\tMSE = {}\\n\\tRMSE = {}\".format(mse1,np.sqrt(mse1)))"
   ]
  },
  {
   "cell_type": "code",
   "execution_count": 82,
   "id": "e69dbb85",
   "metadata": {},
   "outputs": [
    {
     "data": {
      "text/plain": [
       "Text(0.5, 1.0, 'ARIMA Model. Order=(2,0,0)')"
      ]
     },
     "execution_count": 82,
     "metadata": {},
     "output_type": "execute_result"
    },
    {
     "data": {
      "image/png": "[encoded data removed]",
      "text/plain": [
       "<Figure size 720x576 with 1 Axes>"
      ]
     },
     "metadata": {
      "needs_background": "light"
     },
     "output_type": "display_data"
    }
   ],
   "source": [
    "df_res1.actual.plot(figsize=(10,8),legend=True)\n",
    "df_res1.predicted.plot(legend=True)\n",
    "plt.title(msg1)"
   ]
  },
  {
   "cell_type": "markdown",
   "id": "8b2fdc01",
   "metadata": {},
   "source": [
    "#### The orange line in the graph is predicted sales values."
   ]
  },
  {
   "cell_type": "markdown",
   "id": "fdcdcf0c",
   "metadata": {},
   "source": [
    "## ARIMA MODEL"
   ]
  },
  {
   "cell_type": "markdown",
   "id": "52d6f9d6",
   "metadata": {},
   "source": [
    "### Using  AUTO ARIMA for selection of p, d, q"
   ]
  },
  {
   "cell_type": "code",
   "execution_count": 197,
   "id": "e0c8d4ed",
   "metadata": {},
   "outputs": [
    {
     "name": "stdout",
     "output_type": "stream",
     "text": [
      "Performing stepwise search to minimize aic\n",
      " ARIMA(0,0,0)(0,0,0)[0]             : AIC=1220.876, Time=0.13 sec\n",
      " ARIMA(1,0,0)(0,0,0)[0]             : AIC=1188.219, Time=0.02 sec\n",
      " ARIMA(0,0,1)(0,0,0)[0]             : AIC=inf, Time=0.06 sec\n",
      " ARIMA(2,0,0)(0,0,0)[0]             : AIC=1157.033, Time=0.04 sec\n",
      " ARIMA(3,0,0)(0,0,0)[0]             : AIC=1116.739, Time=0.03 sec\n",
      " ARIMA(4,0,0)(0,0,0)[0]             : AIC=1113.732, Time=0.04 sec\n",
      " ARIMA(5,0,0)(0,0,0)[0]             : AIC=1105.691, Time=0.06 sec\n",
      " ARIMA(5,0,1)(0,0,0)[0]             : AIC=1092.527, Time=0.13 sec\n",
      " ARIMA(4,0,1)(0,0,0)[0]             : AIC=1100.315, Time=0.07 sec\n",
      " ARIMA(5,0,2)(0,0,0)[0]             : AIC=1093.045, Time=0.18 sec\n",
      " ARIMA(4,0,2)(0,0,0)[0]             : AIC=1086.843, Time=0.13 sec\n",
      " ARIMA(3,0,2)(0,0,0)[0]             : AIC=1086.672, Time=0.15 sec\n",
      " ARIMA(2,0,2)(0,0,0)[0]             : AIC=1113.274, Time=0.06 sec\n",
      " ARIMA(3,0,1)(0,0,0)[0]             : AIC=1101.554, Time=0.07 sec\n",
      " ARIMA(3,0,3)(0,0,0)[0]             : AIC=1081.566, Time=0.28 sec\n",
      " ARIMA(2,0,3)(0,0,0)[0]             : AIC=1099.567, Time=0.08 sec\n",
      " ARIMA(4,0,3)(0,0,0)[0]             : AIC=1082.737, Time=0.14 sec\n",
      " ARIMA(3,0,4)(0,0,0)[0]             : AIC=1087.028, Time=0.16 sec\n",
      " ARIMA(2,0,4)(0,0,0)[0]             : AIC=1108.100, Time=0.12 sec\n",
      " ARIMA(4,0,4)(0,0,0)[0]             : AIC=1083.952, Time=0.33 sec\n",
      " ARIMA(3,0,3)(0,0,0)[0] intercept   : AIC=1087.505, Time=0.26 sec\n",
      "\n",
      "Best model:  ARIMA(3,0,3)(0,0,0)[0]          \n",
      "Total fit time: 2.590 seconds\n",
      "                               SARIMAX Results                                \n",
      "==============================================================================\n",
      "Dep. Variable:                      y   No. Observations:                   44\n",
      "Model:               SARIMAX(3, 0, 3)   Log Likelihood                -533.783\n",
      "Date:                Fri, 25 Nov 2022   AIC                           1081.566\n",
      "Time:                        12:31:29   BIC                           1094.055\n",
      "Sample:                    06-30-2014   HQIC                          1086.197\n",
      "                         - 01-31-2018                                         \n",
      "Covariance Type:                  opg                                         \n",
      "==============================================================================\n",
      "                 coef    std err          z      P>|z|      [0.025      0.975]\n",
      "------------------------------------------------------------------------------\n",
      "ar.L1         -1.9583      0.173    -11.309      0.000      -2.298      -1.619\n",
      "ar.L2         -1.7575      0.218     -8.048      0.000      -2.186      -1.330\n",
      "ar.L3         -0.7738      0.130     -5.970      0.000      -1.028      -0.520\n",
      "ma.L1         -1.0956      0.429     -2.553      0.011      -1.937      -0.255\n",
      "ma.L2         -0.5960      0.592     -1.006      0.314      -1.757       0.565\n",
      "ma.L3          0.7567      0.493      1.535      0.125      -0.210       1.723\n",
      "sigma2       1.92e+09   1.95e-10   9.83e+18      0.000    1.92e+09    1.92e+09\n",
      "===================================================================================\n",
      "Ljung-Box (L1) (Q):                   0.57   Jarque-Bera (JB):                 1.58\n",
      "Prob(Q):                              0.45   Prob(JB):                         0.45\n",
      "Heteroskedasticity (H):               1.26   Skew:                            -0.15\n",
      "Prob(H) (two-sided):                  0.66   Kurtosis:                         2.12\n",
      "===================================================================================\n",
      "\n",
      "Warnings:\n",
      "[1] Covariance matrix calculated using the outer product of gradients (complex-step).\n",
      "[2] Covariance matrix is singular or near-singular, with condition number 4.15e+34. Standard errors may be unstable.\n"
     ]
    }
   ],
   "source": [
    "# auto ARIMA (to help in the selection of p,d,q)\n",
    "m1 = auto_arima(data1['diff_sales'].dropna(),start_p=0,max_p=5, start_q=0,max_q=5, seasonal=False, trace=True)\n",
    "print(m1.summary())"
   ]
  },
  {
   "cell_type": "markdown",
   "id": "00abad01",
   "metadata": {},
   "source": [
    "#### From AUTO ARIMA the is Best model: ARIMA(3,0,1)(0,0,0)[0]             : AIC=1101.554, Time=0.07 secbased on the least AIC value\n",
    "* THe lowest value for AIC ids considered to be good for the model."
   ]
  },
  {
   "cell_type": "markdown",
   "id": "6c478e3c",
   "metadata": {},
   "source": [
    "## Building  the ARIMA model"
   ]
  },
  {
   "cell_type": "code",
   "execution_count": 62,
   "id": "3bcd034e",
   "metadata": {},
   "outputs": [
    {
     "name": "stdout",
     "output_type": "stream",
     "text": [
      "                               SARIMAX Results                                \n",
      "==============================================================================\n",
      "Dep. Variable:                  Sales   No. Observations:                   40\n",
      "Model:                 ARIMA(3, 1, 1)   Log Likelihood                -208.323\n",
      "Date:                Sun, 27 Nov 2022   AIC                            426.646\n",
      "Time:                        17:46:07   BIC                            434.963\n",
      "Sample:                    01-31-2014   HQIC                           429.630\n",
      "                         - 04-30-2017                                         \n",
      "Covariance Type:                  opg                                         \n",
      "==============================================================================\n",
      "                 coef    std err          z      P>|z|      [0.025      0.975]\n",
      "------------------------------------------------------------------------------\n",
      "ar.L1         -0.1987      0.248     -0.801      0.423      -0.685       0.287\n",
      "ar.L2         -0.0098      0.279     -0.035      0.972      -0.556       0.537\n",
      "ar.L3          0.1900      0.299      0.636      0.525      -0.395       0.776\n",
      "ma.L1         -0.9998     61.590     -0.016      0.987    -121.713     119.714\n",
      "sigma2      2309.5510   1.42e+05      0.016      0.987   -2.76e+05    2.81e+05\n",
      "===================================================================================\n",
      "Ljung-Box (L1) (Q):                   0.02   Jarque-Bera (JB):                 7.34\n",
      "Prob(Q):                              0.90   Prob(JB):                         0.03\n",
      "Heteroskedasticity (H):               0.50   Skew:                             0.93\n",
      "Prob(H) (two-sided):                  0.23   Kurtosis:                         4.04\n",
      "===================================================================================\n",
      "\n",
      "Warnings:\n",
      "[1] Covariance matrix calculated using the outer product of gradients (complex-step).\n"
     ]
    }
   ],
   "source": [
    "# start with initial values for p and q based on auto_arima recommendation\n",
    "p=3; d=0; q=1\n",
    "m3 = ARIMA(train,order=(p,1,q)).fit()\n",
    "print(m3.summary())"
   ]
  },
  {
   "cell_type": "markdown",
   "id": "0c60214b",
   "metadata": {},
   "source": [
    "### Predicting  the test data using the model"
   ]
  },
  {
   "cell_type": "code",
   "execution_count": 63,
   "id": "fa3cf1b2",
   "metadata": {},
   "outputs": [
    {
     "name": "stdout",
     "output_type": "stream",
     "text": [
      "start = 40, end = 47\n",
      "2017-05-31    231.259915\n",
      "2017-06-30    232.671943\n",
      "2017-07-31    219.069091\n",
      "2017-08-31    231.515345\n",
      "2017-09-30    229.444587\n",
      "2017-10-31    227.148847\n",
      "2017-11-30    229.990323\n",
      "2017-12-31    229.054874\n",
      "Freq: M, Name: predicted_mean, dtype: float64\n"
     ]
    }
   ],
   "source": [
    " #predictions\n",
    "start = len(train) \n",
    "end = len(train) + len(test) - 1\n",
    "\n",
    "print('start = {}, end = {}'.format(start,end))\n",
    "\n",
    "predictions = m3.predict(start,end,typ='levels')\n",
    "print(predictions)"
   ]
  },
  {
   "cell_type": "markdown",
   "id": "f2e35855",
   "metadata": {},
   "source": [
    "### Converting the forcasted values in the dataframe"
   ]
  },
  {
   "cell_type": "code",
   "execution_count": 64,
   "id": "32c4e1a2",
   "metadata": {},
   "outputs": [
    {
     "data": {
      "text/html": [
       "<div>\n",
       "<style scoped>\n",
       "    .dataframe tbody tr th:only-of-type {\n",
       "        vertical-align: middle;\n",
       "    }\n",
       "\n",
       "    .dataframe tbody tr th {\n",
       "        vertical-align: top;\n",
       "    }\n",
       "\n",
       "    .dataframe thead th {\n",
       "        text-align: right;\n",
       "    }\n",
       "</style>\n",
       "<table border=\"1\" class=\"dataframe\">\n",
       "  <thead>\n",
       "    <tr style=\"text-align: right;\">\n",
       "      <th></th>\n",
       "      <th>predicted_mean</th>\n",
       "    </tr>\n",
       "  </thead>\n",
       "  <tbody>\n",
       "    <tr>\n",
       "      <th>2017-05-31</th>\n",
       "      <td>231.259915</td>\n",
       "    </tr>\n",
       "    <tr>\n",
       "      <th>2017-06-30</th>\n",
       "      <td>232.671943</td>\n",
       "    </tr>\n",
       "    <tr>\n",
       "      <th>2017-07-31</th>\n",
       "      <td>219.069091</td>\n",
       "    </tr>\n",
       "    <tr>\n",
       "      <th>2017-08-31</th>\n",
       "      <td>231.515345</td>\n",
       "    </tr>\n",
       "    <tr>\n",
       "      <th>2017-09-30</th>\n",
       "      <td>229.444587</td>\n",
       "    </tr>\n",
       "    <tr>\n",
       "      <th>2017-10-31</th>\n",
       "      <td>227.148847</td>\n",
       "    </tr>\n",
       "    <tr>\n",
       "      <th>2017-11-30</th>\n",
       "      <td>229.990323</td>\n",
       "    </tr>\n",
       "    <tr>\n",
       "      <th>2017-12-31</th>\n",
       "      <td>229.054874</td>\n",
       "    </tr>\n",
       "    <tr>\n",
       "      <th>2018-01-31</th>\n",
       "      <td>228.776559</td>\n",
       "    </tr>\n",
       "    <tr>\n",
       "      <th>2018-02-28</th>\n",
       "      <td>229.380981</td>\n",
       "    </tr>\n",
       "    <tr>\n",
       "      <th>2018-03-31</th>\n",
       "      <td>229.085880</td>\n",
       "    </tr>\n",
       "    <tr>\n",
       "      <th>2018-04-30</th>\n",
       "      <td>229.085682</td>\n",
       "    </tr>\n",
       "    <tr>\n",
       "      <th>2018-05-31</th>\n",
       "      <td>229.203474</td>\n",
       "    </tr>\n",
       "    <tr>\n",
       "      <th>2018-06-30</th>\n",
       "      <td>229.123999</td>\n",
       "    </tr>\n",
       "    <tr>\n",
       "      <th>2018-07-31</th>\n",
       "      <td>229.138593</td>\n",
       "    </tr>\n",
       "    <tr>\n",
       "      <th>2018-08-31</th>\n",
       "      <td>229.158857</td>\n",
       "    </tr>\n",
       "  </tbody>\n",
       "</table>\n",
       "</div>"
      ],
      "text/plain": [
       "            predicted_mean\n",
       "2017-05-31      231.259915\n",
       "2017-06-30      232.671943\n",
       "2017-07-31      219.069091\n",
       "2017-08-31      231.515345\n",
       "2017-09-30      229.444587\n",
       "2017-10-31      227.148847\n",
       "2017-11-30      229.990323\n",
       "2017-12-31      229.054874\n",
       "2018-01-31      228.776559\n",
       "2018-02-28      229.380981\n",
       "2018-03-31      229.085880\n",
       "2018-04-30      229.085682\n",
       "2018-05-31      229.203474\n",
       "2018-06-30      229.123999\n",
       "2018-07-31      229.138593\n",
       "2018-08-31      229.158857"
      ]
     },
     "execution_count": 64,
     "metadata": {},
     "output_type": "execute_result"
    }
   ],
   "source": [
    "forecast=pd.DataFrame(m3.forecast(16))  #the forecast values for the future 16 quaters which is next 4 years\n",
    "forecast"
   ]
  },
  {
   "cell_type": "code",
   "execution_count": 65,
   "id": "c4d9dbd7",
   "metadata": {},
   "outputs": [
    {
     "name": "stdout",
     "output_type": "stream",
     "text": [
      "       actual   predicted        err\n",
      "0  182.897150  231.259915 -48.362765\n",
      "1  216.251942  232.671943 -16.420001\n",
      "2  200.285027  219.069091 -18.784065\n",
      "3  289.545358  231.515345  58.030013\n",
      "4  191.430614  229.444587 -38.013973\n",
      "5  260.996387  227.148847  33.847540\n",
      "6  258.056264  229.990323  28.065940\n",
      "7  181.448742  229.054874 -47.606132\n"
     ]
    }
   ],
   "source": [
    "actual = []; pred = []\n",
    "\n",
    "for i in range(len(predictions)):\n",
    "    actual.append(test[i])\n",
    "    pred.append(predictions[i])\n",
    "\n",
    "df_res3 = pd.DataFrame({'actual':actual, 'predicted':pred})\n",
    "df_res3['err'] = df_res3.actual - df_res3.predicted\n",
    "print(df_res3)"
   ]
  },
  {
   "cell_type": "markdown",
   "id": "7641cb16",
   "metadata": {},
   "source": [
    "### # LJung-Box test"
   ]
  },
  {
   "cell_type": "code",
   "execution_count": 66,
   "id": "d682baa9",
   "metadata": {},
   "outputs": [
    {
     "name": "stdout",
     "output_type": "stream",
     "text": [
      "Fail-to-Reject H0. Good model\n"
     ]
    }
   ],
   "source": [
    "# LJung-Box test\n",
    "pvalue = sm.stats.acorr_ljungbox(m3.resid,lags=[1],return_df=True)['lb_pvalue'].values\n",
    "if pvalue < 0.05:\n",
    "    print(\"Reject H0. Bad model\")\n",
    "else:\n",
    "    print(\"Fail-to-Reject H0. Good model\")"
   ]
  },
  {
   "cell_type": "code",
   "execution_count": 67,
   "id": "cd0ba1e3",
   "metadata": {},
   "outputs": [
    {
     "name": "stdout",
     "output_type": "stream",
     "text": [
      "ARIMA Model. Order=(3,0,1)\n",
      "\tMSE = 1496.7069745208123\n",
      "\tRMSE = 38.687297327686416\n"
     ]
    }
   ],
   "source": [
    "# MSE\n",
    "msg3 = 'ARIMA Model. Order=(' + str(p) + ',' + str(d) + ',' + str(q) + ')'\n",
    "mse3 = mean_squared_error(df_res3.actual, df_res3.predicted)\n",
    "print(msg3 + \"\\n\\tMSE = {}\\n\\tRMSE = {}\".format(mse3,np.sqrt(mse3)))"
   ]
  },
  {
   "cell_type": "markdown",
   "id": "525baa90",
   "metadata": {},
   "source": [
    "### Graph for actual vs predicted sales"
   ]
  },
  {
   "cell_type": "code",
   "execution_count": 68,
   "id": "87b0115b",
   "metadata": {},
   "outputs": [
    {
     "data": {
      "text/plain": [
       "Text(0.5, 1.0, 'ARIMA Model. Order=(3,0,1)')"
      ]
     },
     "execution_count": 68,
     "metadata": {},
     "output_type": "execute_result"
    },
    {
     "data": {
      "image/png": "[encoded data removed]",
      "text/plain": [
       "<Figure size 720x576 with 1 Axes>"
      ]
     },
     "metadata": {
      "needs_background": "light"
     },
     "output_type": "display_data"
    }
   ],
   "source": [
    "df_res3.actual.plot(figsize=(10,8),legend=True)\n",
    "df_res3.predicted.plot(legend=True)\n",
    "plt.title(msg3)"
   ]
  },
  {
   "cell_type": "markdown",
   "id": "e0cecbb1",
   "metadata": {},
   "source": [
    "#### Orange line in the graph shows the prediction of the test data"
   ]
  },
  {
   "cell_type": "markdown",
   "id": "2292ad09",
   "metadata": {},
   "source": [
    "## SARIMA MODEL"
   ]
  },
  {
   "cell_type": "markdown",
   "id": "2cd80a1b",
   "metadata": {},
   "source": [
    "### Building the SARIMA model"
   ]
  },
  {
   "cell_type": "code",
   "execution_count": 69,
   "id": "2f95ae23",
   "metadata": {
    "scrolled": true
   },
   "outputs": [
    {
     "data": {
      "image/png": "[encoded data removed]",
      "text/plain": [
       "<Figure size 864x432 with 2 Axes>"
      ]
     },
     "metadata": {
      "needs_background": "light"
     },
     "output_type": "display_data"
    }
   ],
   "source": [
    "# ACF and PACF plots\n",
    "ROWS = 1; COLS = 2\n",
    "fig,ax = plt.subplots(ROWS,COLS,figsize=(12,6))\n",
    "\n",
    "plot_acf(sales[30:], lags=40, ax=ax[0]);\n",
    "plt.title(\"Auto Correlation\")\n",
    "\n",
    "plot_pacf(sales[30:], lags=40, ax=ax[1]);\n",
    "plt.title(\"Partial Auto Correlation\")\n",
    "\n",
    "plt.show()"
   ]
  },
  {
   "cell_type": "code",
   "execution_count": 70,
   "id": "87549b4b",
   "metadata": {},
   "outputs": [
    {
     "name": "stdout",
     "output_type": "stream",
     "text": [
      "                                     SARIMAX Results                                      \n",
      "==========================================================================================\n",
      "Dep. Variable:                              Sales   No. Observations:                   40\n",
      "Model:             SARIMAX(3, 0, 1)x(3, 0, 1, 12)   Log Likelihood                -216.521\n",
      "Date:                            Sun, 27 Nov 2022   AIC                            451.041\n",
      "Time:                                    17:49:27   BIC                            466.241\n",
      "Sample:                                01-31-2014   HQIC                           456.537\n",
      "                                     - 04-30-2017                                         \n",
      "Covariance Type:                              opg                                         \n",
      "==============================================================================\n",
      "                 coef    std err          z      P>|z|      [0.025      0.975]\n",
      "------------------------------------------------------------------------------\n",
      "ar.L1          0.1550      0.430      0.361      0.718      -0.687       0.997\n",
      "ar.L2          0.3585      0.258      1.392      0.164      -0.146       0.863\n",
      "ar.L3          0.4551      0.293      1.552      0.121      -0.120       1.030\n",
      "ma.L1         -0.0856      0.531     -0.161      0.872      -1.126       0.954\n",
      "ar.S.L12      -0.2517    571.651     -0.000      1.000   -1120.667    1120.164\n",
      "ar.S.L24       0.3702     52.729      0.007      0.994    -102.977     103.717\n",
      "ar.S.L36       0.1000    192.161      0.001      1.000    -376.528     376.728\n",
      "ma.S.L12       0.3499    571.960      0.001      1.000   -1120.670    1121.370\n",
      "sigma2      2491.7277    961.121      2.593      0.010     607.964    4375.491\n",
      "===================================================================================\n",
      "Ljung-Box (L1) (Q):                   0.00   Jarque-Bera (JB):                16.90\n",
      "Prob(Q):                              0.98   Prob(JB):                         0.00\n",
      "Heteroskedasticity (H):               0.60   Skew:                             1.32\n",
      "Prob(H) (two-sided):                  0.37   Kurtosis:                         4.79\n",
      "===================================================================================\n",
      "\n",
      "Warnings:\n",
      "[1] Covariance matrix calculated using the outer product of gradients (complex-step).\n"
     ]
    }
   ],
   "source": [
    "p=3; d=0; q=1\n",
    "m4 = sm.tsa.statespace.SARIMAX(train,order=(p,d,q),seasonal_order=(p,d,q,12)).fit()\n",
    "print(m4.summary())"
   ]
  },
  {
   "cell_type": "markdown",
   "id": "3ca5c34f",
   "metadata": {},
   "source": [
    "###  #predictions\n"
   ]
  },
  {
   "cell_type": "code",
   "execution_count": 71,
   "id": "11021ef6",
   "metadata": {},
   "outputs": [
    {
     "name": "stdout",
     "output_type": "stream",
     "text": [
      "start = 40, end = 47\n",
      "2017-05-31    200.424026\n",
      "2017-06-30    183.059360\n",
      "2017-07-31    180.726133\n",
      "2017-08-31    195.511181\n",
      "2017-09-30    188.188836\n",
      "2017-10-31    186.522857\n",
      "2017-11-30    193.095074\n",
      "2017-12-31    197.697764\n",
      "Freq: M, Name: predicted_mean, dtype: float64\n"
     ]
    }
   ],
   "source": [
    " #predictions\n",
    "start = len(train) \n",
    "end = len(train) + len(test) - 1\n",
    "\n",
    "print('start = {}, end = {}'.format(start,end))\n",
    "\n",
    "predictions = m4.predict(start,end,typ='levels')\n",
    "print(predictions)"
   ]
  },
  {
   "cell_type": "code",
   "execution_count": 72,
   "id": "79c87b87",
   "metadata": {},
   "outputs": [
    {
     "name": "stdout",
     "output_type": "stream",
     "text": [
      "start = 40, end = 47\n"
     ]
    },
    {
     "data": {
      "text/html": [
       "<div>\n",
       "<style scoped>\n",
       "    .dataframe tbody tr th:only-of-type {\n",
       "        vertical-align: middle;\n",
       "    }\n",
       "\n",
       "    .dataframe tbody tr th {\n",
       "        vertical-align: top;\n",
       "    }\n",
       "\n",
       "    .dataframe thead th {\n",
       "        text-align: right;\n",
       "    }\n",
       "</style>\n",
       "<table border=\"1\" class=\"dataframe\">\n",
       "  <thead>\n",
       "    <tr style=\"text-align: right;\">\n",
       "      <th></th>\n",
       "      <th>actual</th>\n",
       "      <th>predicted</th>\n",
       "      <th>err</th>\n",
       "    </tr>\n",
       "  </thead>\n",
       "  <tbody>\n",
       "    <tr>\n",
       "      <th>2017-05-31</th>\n",
       "      <td>182.897150</td>\n",
       "      <td>200.424026</td>\n",
       "      <td>-17.526877</td>\n",
       "    </tr>\n",
       "    <tr>\n",
       "      <th>2017-06-30</th>\n",
       "      <td>216.251942</td>\n",
       "      <td>183.059360</td>\n",
       "      <td>33.192582</td>\n",
       "    </tr>\n",
       "    <tr>\n",
       "      <th>2017-07-31</th>\n",
       "      <td>200.285027</td>\n",
       "      <td>180.726133</td>\n",
       "      <td>19.558894</td>\n",
       "    </tr>\n",
       "    <tr>\n",
       "      <th>2017-08-31</th>\n",
       "      <td>289.545358</td>\n",
       "      <td>195.511181</td>\n",
       "      <td>94.034177</td>\n",
       "    </tr>\n",
       "    <tr>\n",
       "      <th>2017-09-30</th>\n",
       "      <td>191.430614</td>\n",
       "      <td>188.188836</td>\n",
       "      <td>3.241778</td>\n",
       "    </tr>\n",
       "  </tbody>\n",
       "</table>\n",
       "</div>"
      ],
      "text/plain": [
       "                actual   predicted        err\n",
       "2017-05-31  182.897150  200.424026 -17.526877\n",
       "2017-06-30  216.251942  183.059360  33.192582\n",
       "2017-07-31  200.285027  180.726133  19.558894\n",
       "2017-08-31  289.545358  195.511181  94.034177\n",
       "2017-09-30  191.430614  188.188836   3.241778"
      ]
     },
     "execution_count": 72,
     "metadata": {},
     "output_type": "execute_result"
    }
   ],
   "source": [
    "start = len(train)\n",
    "end = len(train) + len(test) - 1\n",
    "\n",
    "print('start = {}, end = {}'.format(start,end))\n",
    "\n",
    "predictions = m4.predict(start=start,end=end,dynamic=True)\n",
    "\n",
    "df_res4 = pd.DataFrame({'actual':actual, 'predicted':predictions})\n",
    "df_res4['err'] = df_res4.actual - df_res4.predicted\n",
    "df_res4.head()"
   ]
  },
  {
   "cell_type": "markdown",
   "id": "ce85069e",
   "metadata": {},
   "source": [
    "### # MSE"
   ]
  },
  {
   "cell_type": "code",
   "execution_count": 73,
   "id": "05766ee5",
   "metadata": {},
   "outputs": [
    {
     "name": "stdout",
     "output_type": "stream",
     "text": [
      "SARIMA Model. Order=(3,0,1)\n",
      "\tMSE = 2584.339791756955\n",
      "\tRMSE = 50.8364022306551\n"
     ]
    }
   ],
   "source": [
    "# MSE\n",
    "msg4 = 'SARIMA Model. Order=(' + str(p) + ',' + str(d) + ',' + str(q) + ')'\n",
    "mse4 = mean_squared_error(df_res4.actual, df_res4.predicted)\n",
    "print(msg4 + \"\\n\\tMSE = {}\\n\\tRMSE = {}\".format(mse4,np.sqrt(mse4)))"
   ]
  },
  {
   "cell_type": "code",
   "execution_count": 74,
   "id": "03f662bf",
   "metadata": {},
   "outputs": [
    {
     "data": {
      "text/plain": [
       "Text(0.5, 1.0, 'SARIMA Model. Order=(3,0,1)')"
      ]
     },
     "execution_count": 74,
     "metadata": {},
     "output_type": "execute_result"
    },
    {
     "data": {
      "image/png": "[encoded data removed]",
      "text/plain": [
       "<Figure size 720x576 with 1 Axes>"
      ]
     },
     "metadata": {
      "needs_background": "light"
     },
     "output_type": "display_data"
    }
   ],
   "source": [
    "df_res4.actual.plot(figsize=(10,8),legend=True)\n",
    "df_res4.predicted.plot(legend=True)\n",
    "plt.title(msg4)"
   ]
  },
  {
   "cell_type": "markdown",
   "id": "326ba894",
   "metadata": {},
   "source": [
    "### Conclusion:"
   ]
  },
  {
   "cell_type": "markdown",
   "id": "b5455291",
   "metadata": {},
   "source": [
    "#### \n",
    "* The difference between ARIMA and SARIMA (SARIMAX) is about the seasonality of the dataset. if your data is seasonal, like it happen after a certain period of time. then we will use SARIMA.\n",
    "* The model for which the values of criteria are smallest is considered as the best model. \n",
    "* The difference between ARMA and ARIMA is the integration part. The integrated I stands for the number of times differencing is needed to make the times series stationary."
   ]
  },
  {
   "cell_type": "code",
   "execution_count": null,
   "id": "539861c8",
   "metadata": {},
   "outputs": [],
   "source": []
  }
 ],
 "metadata": {
  "kernelspec": {
   "display_name": "Python 3 (ipykernel)",
   "language": "python",
   "name": "python3"
  },
  "language_info": {
   "codemirror_mode": {
    "name": "ipython",
    "version": 3
   },
   "file_extension": ".py",
   "mimetype": "text/x-python",
   "name": "python",
   "nbconvert_exporter": "python",
   "pygments_lexer": "ipython3",
   "version": "3.9.12"
  }
 },
 "nbformat": 4,
 "nbformat_minor": 5
}
